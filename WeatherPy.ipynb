{
 "cells": [
  {
   "cell_type": "markdown",
   "metadata": {},
   "source": [
    "# WeatherPy\n",
    "----\n",
    "\n",
    "#### Note\n",
    "* Instructions have been included for each segment. You do not have to follow them exactly, but they are included to help you think through the steps."
   ]
  },
  {
   "cell_type": "code",
   "execution_count": 56,
   "metadata": {
    "scrolled": true
   },
   "outputs": [],
   "source": [
    "# Dependencies and Setup\n",
    "import matplotlib.pyplot as plt\n",
    "import pandas as pd\n",
    "import numpy as np\n",
    "import requests\n",
    "import time\n",
    "import scipy.stats as st\n",
    "from scipy.stats import linregress\n",
    "\n",
    "# Import API key\n",
    "from api_keys import weather_api_key\n",
    "\n",
    "# Incorporated citipy to determine city based on latitude and longitude\n",
    "from citipy import citipy\n",
    "\n",
    "# Output File (CSV)\n",
    "output_data_file = \"output_data/cities.csv\"\n",
    "\n",
    "# Range of latitudes and longitudes\n",
    "lat_range = (-90, 90)\n",
    "lng_range = (-180, 180)"
   ]
  },
  {
   "cell_type": "markdown",
   "metadata": {},
   "source": [
    "## Generate Cities List"
   ]
  },
  {
   "cell_type": "code",
   "execution_count": 2,
   "metadata": {},
   "outputs": [
    {
     "name": "stdout",
     "output_type": "stream",
     "text": [
      "Requirement already satisfied: citipy in /Users/meaganmb_11/opt/anaconda3/lib/python3.7/site-packages (0.0.5)\n",
      "Requirement already satisfied: kdtree>=0.12 in /Users/meaganmb_11/opt/anaconda3/lib/python3.7/site-packages (from citipy) (0.16)\n",
      "Note: you may need to restart the kernel to use updated packages.\n"
     ]
    }
   ],
   "source": [
    "# pip install citipy"
   ]
  },
  {
   "cell_type": "code",
   "execution_count": 57,
   "metadata": {},
   "outputs": [
    {
     "data": {
      "text/plain": [
       "622"
      ]
     },
     "execution_count": 57,
     "metadata": {},
     "output_type": "execute_result"
    }
   ],
   "source": [
    "# List for holding lat_lngs and cities\n",
    "lat_lngs = []\n",
    "cities = []\n",
    "\n",
    "# Create a set of random lat and lng combinations\n",
    "lats = np.random.uniform(lat_range[0], lat_range[1], size=1500)\n",
    "lngs = np.random.uniform(lng_range[0], lng_range[1], size=1500)\n",
    "lat_lngs = zip(lats, lngs)\n",
    "\n",
    "# Identify nearest city for each lat, lng combination\n",
    "for lat_lng in lat_lngs:\n",
    "    city = citipy.nearest_city(lat_lng[0], lat_lng[1]).city_name\n",
    "    \n",
    "    # If the city is unique, then add it to a our cities list\n",
    "    if city not in cities:\n",
    "        cities.append(city)\n",
    "\n",
    "# Print the city count to confirm sufficient count\n",
    "len(cities)"
   ]
  },
  {
   "cell_type": "markdown",
   "metadata": {},
   "source": [
    "### Perform API Calls\n",
    "* Perform a weather check on each city using a series of successive API calls.\n",
    "* Include a print log of each city as it'sbeing processed (with the city number and city name).\n"
   ]
  },
  {
   "cell_type": "code",
   "execution_count": 59,
   "metadata": {},
   "outputs": [],
   "source": [
    "url = \"http://api.openweathermap.org/data/2.5/weather?\"\n",
    "\n",
    "# Build query URL and request your results in Celsius\n",
    "query_url = f\"{url}appid={weather_api_key}&q=London&units=Imperial\"\n",
    "\n",
    "# Get weather data\n",
    "weather_response = requests.get(query_url)\n",
    "weather_json = weather_response.json()"
   ]
  },
  {
   "cell_type": "code",
   "execution_count": 60,
   "metadata": {},
   "outputs": [
    {
     "data": {
      "text/plain": [
       "{'coord': {'lon': -0.1257, 'lat': 51.5085},\n",
       " 'weather': [{'id': 801,\n",
       "   'main': 'Clouds',\n",
       "   'description': 'few clouds',\n",
       "   'icon': '02n'}],\n",
       " 'base': 'stations',\n",
       " 'main': {'temp': 61.43,\n",
       "  'feels_like': 61.27,\n",
       "  'temp_min': 58.08,\n",
       "  'temp_max': 64.18,\n",
       "  'pressure': 1010,\n",
       "  'humidity': 85},\n",
       " 'visibility': 10000,\n",
       " 'wind': {'speed': 13.8, 'deg': 70},\n",
       " 'clouds': {'all': 20},\n",
       " 'dt': 1627089607,\n",
       " 'sys': {'type': 2,\n",
       "  'id': 268730,\n",
       "  'country': 'GB',\n",
       "  'sunrise': 1627099957,\n",
       "  'sunset': 1627156865},\n",
       " 'timezone': 3600,\n",
       " 'id': 2643743,\n",
       " 'name': 'London',\n",
       " 'cod': 200}"
      ]
     },
     "execution_count": 60,
     "metadata": {},
     "output_type": "execute_result"
    }
   ],
   "source": [
    "weather_json"
   ]
  },
  {
   "cell_type": "code",
   "execution_count": 49,
   "metadata": {},
   "outputs": [],
   "source": [
    "# cities_test = cities[0:60]"
   ]
  },
  {
   "cell_type": "code",
   "execution_count": 75,
   "metadata": {},
   "outputs": [
    {
     "name": "stdout",
     "output_type": "stream",
     "text": [
      "Beginning Data Retrieval\n",
      "------------------------\n",
      "City not found. Skipping...\n",
      "Processing Record 1 of Set 1 | bow island\n",
      "Processing Record 2 of Set 1 | ayan\n",
      "Processing Record 3 of Set 1 | kruisfontein\n",
      "Processing Record 4 of Set 1 | nikolskoye\n",
      "Processing Record 5 of Set 1 | ushuaia\n",
      "City not found. Skipping...\n",
      "Processing Record 6 of Set 1 | dingle\n",
      "Processing Record 7 of Set 1 | rikitea\n",
      "Processing Record 8 of Set 1 | bratsk\n",
      "Processing Record 9 of Set 1 | alofi\n",
      "Processing Record 10 of Set 1 | port elizabeth\n",
      "Processing Record 11 of Set 1 | meulaboh\n",
      "Processing Record 12 of Set 1 | san vicente\n",
      "Processing Record 13 of Set 1 | roquetas de mar\n",
      "Processing Record 14 of Set 1 | thompson\n",
      "City not found. Skipping...\n",
      "Processing Record 15 of Set 1 | east london\n",
      "Processing Record 16 of Set 1 | bela\n",
      "Processing Record 17 of Set 1 | hobart\n",
      "Processing Record 18 of Set 1 | husavik\n",
      "Processing Record 19 of Set 1 | necochea\n",
      "Processing Record 20 of Set 1 | acapulco\n",
      "Processing Record 21 of Set 1 | college\n",
      "Processing Record 22 of Set 1 | qaanaaq\n",
      "Processing Record 23 of Set 1 | inhambane\n",
      "Processing Record 24 of Set 1 | upington\n",
      "Processing Record 25 of Set 1 | ambulu\n",
      "Processing Record 26 of Set 1 | srandakan\n",
      "Processing Record 27 of Set 1 | hilo\n",
      "Processing Record 28 of Set 1 | preobrazheniye\n",
      "Processing Record 29 of Set 1 | puerto ayora\n",
      "Processing Record 30 of Set 1 | san quintin\n",
      "Processing Record 31 of Set 1 | makakilo city\n",
      "Processing Record 32 of Set 1 | punta arenas\n",
      "Processing Record 33 of Set 1 | olafsvik\n",
      "Processing Record 34 of Set 1 | mabaruma\n",
      "Processing Record 35 of Set 1 | bambous virieux\n",
      "Processing Record 36 of Set 1 | cape town\n",
      "Processing Record 37 of Set 1 | lagoa\n",
      "Processing Record 38 of Set 1 | oktyabrskiy\n",
      "Processing Record 39 of Set 1 | cherskiy\n",
      "Processing Record 40 of Set 1 | matara\n",
      "Processing Record 41 of Set 1 | alice springs\n",
      "Processing Record 42 of Set 1 | port alfred\n",
      "Processing Record 43 of Set 1 | kabo\n",
      "Processing Record 44 of Set 1 | nelson bay\n",
      "Processing Record 45 of Set 1 | guarapari\n",
      "Processing Record 46 of Set 1 | woodward\n",
      "Processing Record 47 of Set 1 | hervey bay\n",
      "Processing Record 48 of Set 1 | shache\n",
      "Processing Record 49 of Set 1 | severo-kurilsk\n",
      "Processing Record 0 of Set 2 | soe\n",
      "Processing Record 1 of Set 2 | tura\n",
      "Processing Record 2 of Set 2 | fortuna\n",
      "Processing Record 3 of Set 2 | salalah\n",
      "Processing Record 4 of Set 2 | san cristobal\n",
      "City not found. Skipping...\n",
      "Processing Record 5 of Set 2 | beloha\n",
      "Processing Record 6 of Set 2 | upernavik\n",
      "Processing Record 7 of Set 2 | khatanga\n",
      "Processing Record 8 of Set 2 | reitz\n",
      "Processing Record 9 of Set 2 | calatayud\n",
      "City not found. Skipping...\n",
      "Processing Record 10 of Set 2 | changji\n",
      "Processing Record 11 of Set 2 | carnarvon\n",
      "Processing Record 12 of Set 2 | mar del plata\n",
      "Processing Record 13 of Set 2 | taltal\n",
      "Processing Record 14 of Set 2 | vanimo\n",
      "Processing Record 15 of Set 2 | barrow\n",
      "Processing Record 16 of Set 2 | huarmey\n",
      "Processing Record 17 of Set 2 | altay\n",
      "Processing Record 18 of Set 2 | new norfolk\n",
      "Processing Record 19 of Set 2 | scarborough\n",
      "Processing Record 20 of Set 2 | kavieng\n",
      "Processing Record 21 of Set 2 | castro\n",
      "Processing Record 22 of Set 2 | comodoro rivadavia\n",
      "Processing Record 23 of Set 2 | dikson\n",
      "Processing Record 24 of Set 2 | dumas\n",
      "Processing Record 25 of Set 2 | egvekinot\n",
      "Processing Record 26 of Set 2 | lac du bonnet\n",
      "Processing Record 27 of Set 2 | mataura\n",
      "Processing Record 28 of Set 2 | tuktoyaktuk\n",
      "Processing Record 29 of Set 2 | gondar\n",
      "Processing Record 30 of Set 2 | charters towers\n",
      "Processing Record 31 of Set 2 | chavakkad\n",
      "Processing Record 32 of Set 2 | tarko-sale\n",
      "Processing Record 33 of Set 2 | busselton\n",
      "Processing Record 34 of Set 2 | soyo\n",
      "Processing Record 35 of Set 2 | lompoc\n",
      "Processing Record 36 of Set 2 | ancud\n",
      "Processing Record 37 of Set 2 | ilulissat\n",
      "Processing Record 38 of Set 2 | vaini\n",
      "Processing Record 39 of Set 2 | jamestown\n",
      "Processing Record 40 of Set 2 | derzhavinsk\n",
      "Processing Record 41 of Set 2 | puksoozero\n",
      "Processing Record 42 of Set 2 | sioux lookout\n",
      "City not found. Skipping...\n",
      "Processing Record 43 of Set 2 | san patricio\n",
      "Processing Record 44 of Set 2 | poum\n",
      "Processing Record 45 of Set 2 | pocatello\n",
      "Processing Record 46 of Set 2 | ponta delgada\n",
      "Processing Record 47 of Set 2 | gallup\n",
      "Processing Record 48 of Set 2 | piacabucu\n",
      "Processing Record 49 of Set 2 | pilar\n",
      "Processing Record 0 of Set 3 | cap malheureux\n",
      "Processing Record 1 of Set 3 | cockburn town\n",
      "Processing Record 2 of Set 3 | roma\n",
      "Processing Record 3 of Set 3 | hermanus\n",
      "Processing Record 4 of Set 3 | tornio\n",
      "Processing Record 5 of Set 3 | doha\n",
      "Processing Record 6 of Set 3 | isla mujeres\n",
      "Processing Record 7 of Set 3 | rocha\n",
      "Processing Record 8 of Set 3 | kirando\n",
      "Processing Record 9 of Set 3 | ponta do sol\n",
      "Processing Record 10 of Set 3 | teeli\n",
      "Processing Record 11 of Set 3 | ntchisi\n",
      "Processing Record 12 of Set 3 | teya\n",
      "City not found. Skipping...\n",
      "Processing Record 13 of Set 3 | cayenne\n",
      "Processing Record 14 of Set 3 | saint george\n",
      "City not found. Skipping...\n",
      "Processing Record 15 of Set 3 | bluff\n",
      "Processing Record 16 of Set 3 | sile\n",
      "Processing Record 17 of Set 3 | pacific grove\n",
      "Processing Record 18 of Set 3 | magdagachi\n",
      "Processing Record 19 of Set 3 | oum hadjer\n",
      "City not found. Skipping...\n",
      "Processing Record 20 of Set 3 | calamar\n",
      "Processing Record 21 of Set 3 | bredasdorp\n",
      "Processing Record 22 of Set 3 | tevaitoa\n",
      "Processing Record 23 of Set 3 | asau\n",
      "Processing Record 24 of Set 3 | arraial do cabo\n",
      "Processing Record 25 of Set 3 | tiksi\n",
      "Processing Record 26 of Set 3 | sao raimundo nonato\n",
      "Processing Record 27 of Set 3 | kingman\n",
      "Processing Record 28 of Set 3 | zhoucheng\n",
      "Processing Record 29 of Set 3 | ourossogui\n",
      "Processing Record 30 of Set 3 | aljezur\n",
      "Processing Record 31 of Set 3 | malanje\n",
      "Processing Record 32 of Set 3 | shimoda\n",
      "Processing Record 33 of Set 3 | pavelets\n",
      "Processing Record 34 of Set 3 | avera\n",
      "Processing Record 35 of Set 3 | victor harbor\n",
      "Processing Record 36 of Set 3 | sitka\n",
      "Processing Record 37 of Set 3 | krasnogorsk\n",
      "Processing Record 38 of Set 3 | hasaki\n",
      "Processing Record 39 of Set 3 | veraval\n",
      "Processing Record 40 of Set 3 | sharanga\n",
      "Processing Record 41 of Set 3 | kodiak\n",
      "Processing Record 42 of Set 3 | kaitangata\n",
      "Processing Record 43 of Set 3 | tateyama\n",
      "City not found. Skipping...\n",
      "Processing Record 44 of Set 3 | albany\n",
      "Processing Record 45 of Set 3 | walvis bay\n",
      "City not found. Skipping...\n",
      "Processing Record 46 of Set 3 | mecca\n",
      "City not found. Skipping...\n",
      "Processing Record 47 of Set 3 | mehamn\n",
      "Processing Record 48 of Set 3 | troitskoye\n",
      "Processing Record 49 of Set 3 | avarua\n",
      "Processing Record 0 of Set 4 | goderich\n",
      "Processing Record 1 of Set 4 | cabo san lucas\n",
      "Processing Record 2 of Set 4 | khandyga\n",
      "City not found. Skipping...\n",
      "Processing Record 3 of Set 4 | ribeira grande\n",
      "Processing Record 4 of Set 4 | velizh\n",
      "Processing Record 5 of Set 4 | garmsar\n",
      "Processing Record 6 of Set 4 | yenagoa\n",
      "Processing Record 7 of Set 4 | shenjiamen\n",
      "Processing Record 8 of Set 4 | karratha\n",
      "Processing Record 9 of Set 4 | marquette\n",
      "Processing Record 10 of Set 4 | mitsamiouli\n",
      "Processing Record 11 of Set 4 | darhan\n",
      "Processing Record 12 of Set 4 | samarai\n",
      "Processing Record 13 of Set 4 | loubomo\n",
      "Processing Record 14 of Set 4 | sturgeon falls\n",
      "Processing Record 15 of Set 4 | koslan\n",
      "Processing Record 16 of Set 4 | salme\n",
      "Processing Record 17 of Set 4 | nicoya\n",
      "Processing Record 18 of Set 4 | belyy yar\n",
      "Processing Record 19 of Set 4 | ghanzi\n",
      "Processing Record 20 of Set 4 | port augusta\n",
      "Processing Record 21 of Set 4 | touros\n",
      "Processing Record 22 of Set 4 | tautira\n",
      "Processing Record 23 of Set 4 | mpika\n",
      "Processing Record 24 of Set 4 | isangel\n",
      "Processing Record 25 of Set 4 | la concordia\n",
      "City not found. Skipping...\n",
      "Processing Record 26 of Set 4 | mananjary\n",
      "Processing Record 27 of Set 4 | minsk\n",
      "Processing Record 28 of Set 4 | kapaa\n",
      "Processing Record 29 of Set 4 | sorong\n",
      "Processing Record 30 of Set 4 | tobermory\n",
      "Processing Record 31 of Set 4 | pochutla\n",
      "Processing Record 32 of Set 4 | saint-philippe\n",
      "Processing Record 33 of Set 4 | fatehpur\n",
      "Processing Record 34 of Set 4 | mahebourg\n",
      "Processing Record 35 of Set 4 | karasjok\n",
      "Processing Record 36 of Set 4 | xining\n",
      "Processing Record 37 of Set 4 | arman\n",
      "Processing Record 38 of Set 4 | souillac\n",
      "Processing Record 39 of Set 4 | tutoia\n"
     ]
    },
    {
     "name": "stdout",
     "output_type": "stream",
     "text": [
      "City not found. Skipping...\n",
      "Processing Record 40 of Set 4 | nyurba\n",
      "Processing Record 41 of Set 4 | majholi\n",
      "Processing Record 42 of Set 4 | marshfield\n",
      "Processing Record 43 of Set 4 | madang\n",
      "Processing Record 44 of Set 4 | lebu\n",
      "Processing Record 45 of Set 4 | belaya gora\n",
      "Processing Record 46 of Set 4 | haines junction\n",
      "Processing Record 47 of Set 4 | keti bandar\n",
      "City not found. Skipping...\n",
      "Processing Record 48 of Set 4 | yellowknife\n",
      "Processing Record 49 of Set 4 | atuona\n",
      "Processing Record 0 of Set 5 | egra\n",
      "Processing Record 1 of Set 5 | evensk\n",
      "Processing Record 2 of Set 5 | esperance\n",
      "Processing Record 3 of Set 5 | namibe\n",
      "Processing Record 4 of Set 5 | barra\n",
      "Processing Record 5 of Set 5 | vila velha\n",
      "Processing Record 6 of Set 5 | biak\n",
      "Processing Record 7 of Set 5 | sambava\n",
      "Processing Record 8 of Set 5 | guasdualito\n",
      "Processing Record 9 of Set 5 | san jose\n",
      "Processing Record 10 of Set 5 | hami\n",
      "Processing Record 11 of Set 5 | okato\n",
      "Processing Record 12 of Set 5 | hamilton\n",
      "Processing Record 13 of Set 5 | cotonou\n",
      "Processing Record 14 of Set 5 | jalalabad\n",
      "Processing Record 15 of Set 5 | balykshi\n",
      "Processing Record 16 of Set 5 | yaan\n",
      "Processing Record 17 of Set 5 | bontang\n",
      "Processing Record 18 of Set 5 | butaritari\n",
      "Processing Record 19 of Set 5 | sorland\n",
      "Processing Record 20 of Set 5 | la rochelle\n",
      "Processing Record 21 of Set 5 | nuuk\n",
      "Processing Record 22 of Set 5 | lamar\n",
      "Processing Record 23 of Set 5 | berbera\n",
      "Processing Record 24 of Set 5 | viramgam\n",
      "City not found. Skipping...\n",
      "Processing Record 25 of Set 5 | moussoro\n",
      "Processing Record 26 of Set 5 | batemans bay\n",
      "Processing Record 27 of Set 5 | ambilobe\n",
      "Processing Record 28 of Set 5 | luderitz\n",
      "Processing Record 29 of Set 5 | bonthe\n",
      "Processing Record 30 of Set 5 | chuy\n",
      "Processing Record 31 of Set 5 | nemuro\n",
      "Processing Record 32 of Set 5 | bethel\n",
      "Processing Record 33 of Set 5 | krasnoborsk\n",
      "Processing Record 34 of Set 5 | ternate\n",
      "Processing Record 35 of Set 5 | tasiilaq\n",
      "Processing Record 36 of Set 5 | thaton\n",
      "Processing Record 37 of Set 5 | mount isa\n",
      "City not found. Skipping...\n",
      "Processing Record 38 of Set 5 | klaksvik\n",
      "City not found. Skipping...\n",
      "Processing Record 39 of Set 5 | davila\n",
      "Processing Record 40 of Set 5 | guerrero negro\n",
      "Processing Record 41 of Set 5 | georgetown\n",
      "Processing Record 42 of Set 5 | mopipi\n",
      "Processing Record 43 of Set 5 | half moon bay\n",
      "Processing Record 44 of Set 5 | rio de janeiro\n",
      "Processing Record 45 of Set 5 | la ronge\n",
      "Processing Record 46 of Set 5 | beyneu\n",
      "City not found. Skipping...\n",
      "Processing Record 47 of Set 5 | berdigestyakh\n",
      "Processing Record 48 of Set 5 | hithadhoo\n",
      "Processing Record 49 of Set 5 | jining\n",
      "Processing Record 0 of Set 6 | los llanos de aridane\n",
      "Processing Record 1 of Set 6 | dali\n",
      "Processing Record 2 of Set 6 | saquarema\n",
      "Processing Record 3 of Set 6 | bohicon\n",
      "Processing Record 4 of Set 6 | payyannur\n",
      "City not found. Skipping...\n",
      "Processing Record 5 of Set 6 | kuala terengganu\n",
      "Processing Record 6 of Set 6 | yurginskoye\n",
      "Processing Record 7 of Set 6 | shellbrook\n",
      "City not found. Skipping...\n",
      "Processing Record 8 of Set 6 | leningradskiy\n",
      "Processing Record 9 of Set 6 | aksarka\n",
      "City not found. Skipping...\n",
      "Processing Record 10 of Set 6 | broome\n",
      "Processing Record 11 of Set 6 | provideniya\n",
      "Processing Record 12 of Set 6 | araouane\n",
      "Processing Record 13 of Set 6 | jijiga\n",
      "Processing Record 14 of Set 6 | coquimbo\n",
      "Processing Record 15 of Set 6 | chokurdakh\n",
      "City not found. Skipping...\n",
      "Processing Record 16 of Set 6 | pemba\n",
      "Processing Record 17 of Set 6 | muros\n",
      "Processing Record 18 of Set 6 | parit buntar\n",
      "Processing Record 19 of Set 6 | lorengau\n",
      "Processing Record 20 of Set 6 | tiznit\n",
      "Processing Record 21 of Set 6 | sausar\n",
      "Processing Record 22 of Set 6 | bukene\n",
      "Processing Record 23 of Set 6 | alenquer\n",
      "Processing Record 24 of Set 6 | aswan\n",
      "Processing Record 25 of Set 6 | mahabad\n",
      "Processing Record 26 of Set 6 | salinopolis\n",
      "Processing Record 27 of Set 6 | north platte\n",
      "Processing Record 28 of Set 6 | villaviciosa\n",
      "Processing Record 29 of Set 6 | daru\n",
      "Processing Record 30 of Set 6 | prague\n",
      "Processing Record 31 of Set 6 | port lincoln\n",
      "City not found. Skipping...\n",
      "Processing Record 32 of Set 6 | vangaindrano\n",
      "Processing Record 33 of Set 6 | nhulunbuy\n",
      "City not found. Skipping...\n",
      "Processing Record 34 of Set 6 | neuquen\n",
      "Processing Record 35 of Set 6 | payson\n",
      "Processing Record 36 of Set 6 | tetiz\n",
      "Processing Record 37 of Set 6 | yeppoon\n",
      "Processing Record 38 of Set 6 | bondoukou\n",
      "Processing Record 39 of Set 6 | shintomi\n",
      "Processing Record 40 of Set 6 | paita\n",
      "Processing Record 41 of Set 6 | clyde river\n",
      "Processing Record 42 of Set 6 | dawson creek\n",
      "Processing Record 43 of Set 6 | sao filipe\n",
      "Processing Record 44 of Set 6 | barentu\n",
      "Processing Record 45 of Set 6 | datong\n",
      "Processing Record 46 of Set 6 | caravelas\n",
      "Processing Record 47 of Set 6 | broken hill\n",
      "Processing Record 48 of Set 6 | uyuni\n",
      "Processing Record 49 of Set 6 | ust-ilimsk\n",
      "Processing Record 0 of Set 7 | geilo\n",
      "City not found. Skipping...\n",
      "Processing Record 1 of Set 7 | cidreira\n",
      "Processing Record 2 of Set 7 | saint-prosper\n",
      "Processing Record 3 of Set 7 | victoria\n",
      "Processing Record 4 of Set 7 | brae\n",
      "Processing Record 5 of Set 7 | portland\n",
      "Processing Record 6 of Set 7 | koulamoutou\n",
      "Processing Record 7 of Set 7 | faanui\n",
      "Processing Record 8 of Set 7 | buchanan\n",
      "Processing Record 9 of Set 7 | la palma\n",
      "Processing Record 10 of Set 7 | hvolsvollur\n",
      "Processing Record 11 of Set 7 | sao geraldo do araguaia\n",
      "Processing Record 12 of Set 7 | buzmeyin\n",
      "Processing Record 13 of Set 7 | port-cartier\n",
      "Processing Record 14 of Set 7 | rawson\n",
      "City not found. Skipping...\n",
      "Processing Record 15 of Set 7 | manyana\n",
      "Processing Record 16 of Set 7 | socorro\n",
      "Processing Record 17 of Set 7 | sobolevo\n",
      "Processing Record 18 of Set 7 | panaba\n",
      "Processing Record 19 of Set 7 | ranong\n",
      "Processing Record 20 of Set 7 | domoni\n",
      "Processing Record 21 of Set 7 | yulara\n",
      "Processing Record 22 of Set 7 | nautla\n",
      "Processing Record 23 of Set 7 | anjozorobe\n",
      "Processing Record 24 of Set 7 | santiago del estero\n",
      "Processing Record 25 of Set 7 | ondjiva\n",
      "Processing Record 26 of Set 7 | allada\n",
      "Processing Record 27 of Set 7 | saldanha\n",
      "Processing Record 28 of Set 7 | lasa\n",
      "Processing Record 29 of Set 7 | nishihara\n",
      "Processing Record 30 of Set 7 | muramvya\n",
      "City not found. Skipping...\n",
      "Processing Record 31 of Set 7 | yarmouth\n",
      "Processing Record 32 of Set 7 | tabas\n",
      "Processing Record 33 of Set 7 | lata\n",
      "City not found. Skipping...\n",
      "Processing Record 34 of Set 7 | umm bab\n",
      "Processing Record 35 of Set 7 | chimbote\n",
      "Processing Record 36 of Set 7 | alegrete\n",
      "Processing Record 37 of Set 7 | belmonte\n",
      "Processing Record 38 of Set 7 | petropavlovsk-kamchatskiy\n",
      "Processing Record 39 of Set 7 | praia\n",
      "Processing Record 40 of Set 7 | borgo san dalmazzo\n",
      "Processing Record 41 of Set 7 | aguimes\n",
      "Processing Record 42 of Set 7 | port hawkesbury\n",
      "Processing Record 43 of Set 7 | saravan\n",
      "Processing Record 44 of Set 7 | pisco\n",
      "Processing Record 45 of Set 7 | byron bay\n",
      "Processing Record 46 of Set 7 | santa cruz\n",
      "Processing Record 47 of Set 7 | netivot\n",
      "Processing Record 48 of Set 7 | basco\n",
      "Processing Record 49 of Set 7 | namie\n",
      "Processing Record 0 of Set 8 | havelock\n",
      "Processing Record 1 of Set 8 | severobaykalsk\n",
      "Processing Record 2 of Set 8 | salekhard\n",
      "Processing Record 3 of Set 8 | kapit\n",
      "Processing Record 4 of Set 8 | bugarama\n",
      "Processing Record 5 of Set 8 | changli\n",
      "Processing Record 6 of Set 8 | katsuura\n",
      "Processing Record 7 of Set 8 | alta floresta\n",
      "Processing Record 8 of Set 8 | tashla\n",
      "City not found. Skipping...\n",
      "Processing Record 9 of Set 8 | sao felix do xingu\n",
      "Processing Record 10 of Set 8 | verkhoyansk\n",
      "Processing Record 11 of Set 8 | sayyan\n",
      "Processing Record 12 of Set 8 | te anau\n",
      "Processing Record 13 of Set 8 | grindavik\n",
      "Processing Record 14 of Set 8 | nome\n",
      "Processing Record 15 of Set 8 | iracoubo\n",
      "Processing Record 16 of Set 8 | flin flon\n",
      "Processing Record 17 of Set 8 | yerbogachen\n",
      "Processing Record 18 of Set 8 | lagoa vermelha\n",
      "Processing Record 19 of Set 8 | kendari\n",
      "Processing Record 20 of Set 8 | westport\n",
      "Processing Record 21 of Set 8 | hakui\n",
      "Processing Record 22 of Set 8 | huayang\n",
      "Processing Record 23 of Set 8 | anamur\n",
      "Processing Record 24 of Set 8 | kahului\n",
      "Processing Record 25 of Set 8 | komsomolskiy\n",
      "Processing Record 26 of Set 8 | tadine\n",
      "Processing Record 27 of Set 8 | zyryanka\n"
     ]
    },
    {
     "name": "stdout",
     "output_type": "stream",
     "text": [
      "Processing Record 28 of Set 8 | padang\n",
      "Processing Record 29 of Set 8 | belem de sao francisco\n",
      "Processing Record 30 of Set 8 | palmer\n",
      "Processing Record 31 of Set 8 | raton\n",
      "Processing Record 32 of Set 8 | banos\n",
      "Processing Record 33 of Set 8 | torbay\n",
      "Processing Record 34 of Set 8 | jiangyou\n",
      "Processing Record 35 of Set 8 | rehoboth\n",
      "Processing Record 36 of Set 8 | bandarbeyla\n",
      "Processing Record 37 of Set 8 | huangchuan\n",
      "Processing Record 38 of Set 8 | nanortalik\n",
      "Processing Record 39 of Set 8 | mangaldai\n",
      "Processing Record 40 of Set 8 | nouadhibou\n",
      "Processing Record 41 of Set 8 | morden\n",
      "Processing Record 42 of Set 8 | airai\n",
      "Processing Record 43 of Set 8 | antofagasta\n",
      "Processing Record 44 of Set 8 | tigil\n",
      "Processing Record 45 of Set 8 | saskylakh\n",
      "Processing Record 46 of Set 8 | quelimane\n",
      "Processing Record 47 of Set 8 | sebastian\n",
      "Processing Record 48 of Set 8 | ust-tsilma\n",
      "City not found. Skipping...\n",
      "Processing Record 49 of Set 8 | aklavik\n",
      "Processing Record 0 of Set 9 | nikel\n",
      "Processing Record 1 of Set 9 | edgewater\n",
      "City not found. Skipping...\n",
      "Processing Record 2 of Set 9 | road town\n",
      "Processing Record 3 of Set 9 | tazovskiy\n",
      "Processing Record 4 of Set 9 | wamba\n",
      "Processing Record 5 of Set 9 | katherine\n",
      "Processing Record 6 of Set 9 | mamallapuram\n",
      "Processing Record 7 of Set 9 | norman wells\n",
      "Processing Record 8 of Set 9 | narsaq\n",
      "Processing Record 9 of Set 9 | ambatolampy\n",
      "Processing Record 10 of Set 9 | catuday\n",
      "City not found. Skipping...\n",
      "Processing Record 11 of Set 9 | razole\n",
      "Processing Record 12 of Set 9 | puerto escondido\n",
      "Processing Record 13 of Set 9 | san carlos de bariloche\n",
      "Processing Record 14 of Set 9 | ahuimanu\n",
      "Processing Record 15 of Set 9 | yablonovo\n",
      "Processing Record 16 of Set 9 | longyearbyen\n",
      "Processing Record 17 of Set 9 | harper\n",
      "Processing Record 18 of Set 9 | parana\n",
      "Processing Record 19 of Set 9 | puerto princesa\n",
      "Processing Record 20 of Set 9 | dunedin\n",
      "Processing Record 21 of Set 9 | imbituba\n",
      "Processing Record 22 of Set 9 | hit\n",
      "City not found. Skipping...\n",
      "Processing Record 23 of Set 9 | bathsheba\n",
      "Processing Record 24 of Set 9 | gamba\n",
      "Processing Record 25 of Set 9 | carutapera\n",
      "City not found. Skipping...\n",
      "Processing Record 26 of Set 9 | malinyi\n",
      "Processing Record 27 of Set 9 | alto araguaia\n",
      "Processing Record 28 of Set 9 | fairbanks\n",
      "Processing Record 29 of Set 9 | banda aceh\n",
      "Processing Record 30 of Set 9 | olinda\n",
      "Processing Record 31 of Set 9 | celestun\n",
      "Processing Record 32 of Set 9 | hambantota\n",
      "Processing Record 33 of Set 9 | tres lagoas\n",
      "Processing Record 34 of Set 9 | ashland\n",
      "Processing Record 35 of Set 9 | sola\n",
      "Processing Record 36 of Set 9 | rahimatpur\n",
      "Processing Record 37 of Set 9 | los santos\n",
      "Processing Record 38 of Set 9 | ilhabela\n",
      "City not found. Skipping...\n",
      "Processing Record 39 of Set 9 | aldan\n",
      "Processing Record 40 of Set 9 | ostrovnoy\n",
      "Processing Record 41 of Set 9 | kununurra\n",
      "City not found. Skipping...\n",
      "Processing Record 42 of Set 9 | kushmurun\n",
      "Processing Record 43 of Set 9 | ossora\n",
      "Processing Record 44 of Set 9 | bengkulu\n",
      "Processing Record 45 of Set 9 | rio gallegos\n",
      "Processing Record 46 of Set 9 | sur\n",
      "Processing Record 47 of Set 9 | saint-michel-des-saints\n",
      "Processing Record 48 of Set 9 | mayo\n",
      "Processing Record 49 of Set 9 | kloulklubed\n",
      "Processing Record 0 of Set 10 | pavilosta\n",
      "Processing Record 1 of Set 10 | salinas\n",
      "Processing Record 2 of Set 10 | skjervoy\n",
      "Processing Record 3 of Set 10 | shenkursk\n",
      "Processing Record 4 of Set 10 | ugoofaaru\n",
      "Processing Record 5 of Set 10 | novouzensk\n",
      "Processing Record 6 of Set 10 | shimanovsk\n",
      "Processing Record 7 of Set 10 | wangqing\n",
      "Processing Record 8 of Set 10 | naryan-mar\n",
      "Processing Record 9 of Set 10 | vrangel\n",
      "Processing Record 10 of Set 10 | hereford\n",
      "City not found. Skipping...\n",
      "Processing Record 11 of Set 10 | kamina\n",
      "Processing Record 12 of Set 10 | ta khmau\n",
      "Processing Record 13 of Set 10 | kalamare\n",
      "Processing Record 14 of Set 10 | chistogorskiy\n",
      "Processing Record 15 of Set 10 | qena\n",
      "Processing Record 16 of Set 10 | chipata\n",
      "Processing Record 17 of Set 10 | anori\n",
      "City not found. Skipping...\n",
      "City not found. Skipping...\n",
      "Processing Record 18 of Set 10 | conceicao das alagoas\n",
      "City not found. Skipping...\n",
      "Processing Record 19 of Set 10 | ati\n",
      "City not found. Skipping...\n",
      "Processing Record 20 of Set 10 | massaguet\n",
      "Processing Record 21 of Set 10 | pevek\n",
      "Processing Record 22 of Set 10 | sabang\n",
      "Processing Record 23 of Set 10 | talcahuano\n",
      "Processing Record 24 of Set 10 | tabory\n",
      "Processing Record 25 of Set 10 | port-gentil\n",
      "Processing Record 26 of Set 10 | maceio\n",
      "Processing Record 27 of Set 10 | oranjemund\n",
      "Processing Record 28 of Set 10 | esna\n",
      "Processing Record 29 of Set 10 | tarakan\n",
      "Processing Record 30 of Set 10 | swan hill\n",
      "City not found. Skipping...\n",
      "Processing Record 31 of Set 10 | port moresby\n",
      "Processing Record 32 of Set 10 | sakaraha\n",
      "Processing Record 33 of Set 10 | vestmannaeyjar\n",
      "Processing Record 34 of Set 10 | caucaia\n",
      "Processing Record 35 of Set 10 | linping\n",
      "Processing Record 36 of Set 10 | mahon\n",
      "Processing Record 37 of Set 10 | udachnyy\n",
      "Processing Record 38 of Set 10 | san ramon\n",
      "Processing Record 39 of Set 10 | quatre cocos\n",
      "Processing Record 40 of Set 10 | srednekolymsk\n",
      "City not found. Skipping...\n",
      "Processing Record 41 of Set 10 | buraydah\n",
      "Processing Record 42 of Set 10 | altamira\n",
      "Processing Record 43 of Set 10 | maragheh\n",
      "Processing Record 44 of Set 10 | leshukonskoye\n",
      "Processing Record 45 of Set 10 | loughton\n",
      "Processing Record 46 of Set 10 | kavaratti\n",
      "Processing Record 47 of Set 10 | kangaatsiaq\n",
      "City not found. Skipping...\n",
      "Processing Record 48 of Set 10 | muisne\n",
      "Processing Record 49 of Set 10 | hirara\n",
      "Processing Record 0 of Set 11 | sistranda\n",
      "Processing Record 1 of Set 11 | volcan\n",
      "Processing Record 2 of Set 11 | hay river\n",
      "Processing Record 3 of Set 11 | makat\n",
      "Processing Record 4 of Set 11 | mangochi\n",
      "Processing Record 5 of Set 11 | hurricane\n",
      "Processing Record 6 of Set 11 | chapais\n",
      "Processing Record 7 of Set 11 | limbang\n",
      "Processing Record 8 of Set 11 | muzhi\n",
      "Processing Record 9 of Set 11 | bafoulabe\n",
      "Processing Record 10 of Set 11 | segou\n",
      "Processing Record 11 of Set 11 | masallatah\n",
      "Processing Record 12 of Set 11 | duku\n",
      "Processing Record 13 of Set 11 | port keats\n",
      "City not found. Skipping...\n",
      "Processing Record 14 of Set 11 | margate\n",
      "Processing Record 15 of Set 11 | la paz\n",
      "Processing Record 16 of Set 11 | okhotsk\n",
      "Processing Record 17 of Set 11 | dvinskoy\n",
      "Processing Record 18 of Set 11 | arlit\n",
      "Processing Record 19 of Set 11 | hede\n",
      "Processing Record 20 of Set 11 | fort walton beach\n",
      "Processing Record 21 of Set 11 | iqaluit\n",
      "Processing Record 22 of Set 11 | lazarev\n",
      "Processing Record 23 of Set 11 | codrington\n",
      "Processing Record 24 of Set 11 | matamoros\n",
      "Processing Record 25 of Set 11 | eirunepe\n",
      "Processing Record 26 of Set 11 | nueva loja\n",
      "Processing Record 27 of Set 11 | marsa matruh\n",
      "Processing Record 28 of Set 11 | piripiri\n",
      "City not found. Skipping...\n",
      "City not found. Skipping...\n",
      "Processing Record 29 of Set 11 | voitsberg\n",
      "Processing Record 30 of Set 11 | korla\n",
      "Processing Record 31 of Set 11 | la sarre\n",
      "Processing Record 32 of Set 11 | howard springs\n",
      "City not found. Skipping...\n",
      "Processing Record 33 of Set 11 | zafarwal\n",
      "Processing Record 34 of Set 11 | atbasar\n",
      "Processing Record 35 of Set 11 | erenhot\n",
      "Processing Record 36 of Set 11 | sargodha\n",
      "Processing Record 37 of Set 11 | thongwa\n",
      "Processing Record 38 of Set 11 | manoel urbano\n",
      "Processing Record 39 of Set 11 | borovskoy\n",
      "Processing Record 40 of Set 11 | talnakh\n",
      "Processing Record 41 of Set 11 | saint anthony\n",
      "Processing Record 42 of Set 11 | lavrentiya\n",
      "Processing Record 43 of Set 11 | karuzi\n",
      "Processing Record 44 of Set 11 | zaysan\n",
      "Processing Record 45 of Set 11 | nawalapitiya\n",
      "Processing Record 46 of Set 11 | yuanping\n",
      "Processing Record 47 of Set 11 | kamennogorsk\n",
      "Processing Record 48 of Set 11 | prince rupert\n",
      "Processing Record 49 of Set 11 | weihai\n",
      "Processing Record 0 of Set 12 | hofn\n",
      "Processing Record 1 of Set 12 | vardo\n",
      "Processing Record 2 of Set 12 | hurghada\n",
      "Processing Record 3 of Set 12 | lakhnau\n",
      "Processing Record 4 of Set 12 | fitionesti\n",
      "Processing Record 5 of Set 12 | talaya\n",
      "Processing Record 6 of Set 12 | petrivka\n",
      "Processing Record 7 of Set 12 | catalina\n",
      "Processing Record 8 of Set 12 | santa maria\n",
      "Processing Record 9 of Set 12 | kokopo\n",
      "Processing Record 10 of Set 12 | sao sebastiao\n"
     ]
    },
    {
     "name": "stdout",
     "output_type": "stream",
     "text": [
      "Processing Record 11 of Set 12 | raudeberg\n",
      "Processing Record 12 of Set 12 | kargopol\n",
      "Processing Record 13 of Set 12 | rio grande\n",
      "Processing Record 14 of Set 12 | tevriz\n",
      "Processing Record 15 of Set 12 | manzanares\n",
      "Processing Record 16 of Set 12 | narathiwat\n",
      "Processing Record 17 of Set 12 | sulangan\n",
      "Processing Record 18 of Set 12 | poyarkovo\n",
      "Processing Record 19 of Set 12 | dongargaon\n",
      "Processing Record 20 of Set 12 | malanville\n",
      "Processing Record 21 of Set 12 | nabire\n",
      "Processing Record 22 of Set 12 | constitucion\n",
      "------------------------\n",
      "Data Retrieval Complete\n",
      "------------------------\n"
     ]
    }
   ],
   "source": [
    "record_count = 0\n",
    "set_count = 1\n",
    "city_data = []\n",
    "print(\"Beginning Data Retrieval\")\n",
    "print(\"------------------------\")\n",
    "\n",
    "for city in cities:\n",
    "    query_url = f\"{url}appid={weather_api_key}&q={city}&units=Imperial\"\n",
    "    # Get weather data\n",
    "    weather_response = requests.get(query_url)\n",
    "    weather_json = weather_response.json()\n",
    "    record_count += 1\n",
    "    if (record_count % 50== 0):\n",
    "        record_count = 0\n",
    "        set_count += 1 \n",
    "    \n",
    "    try:\n",
    "        longitude = weather_json[\"coord\"][\"lon\"]\n",
    "        latitude = weather_json[\"coord\"][\"lat\"]\n",
    "        max_temp = weather_json[\"main\"][\"temp_max\"]\n",
    "        humidity = weather_json[\"main\"][\"humidity\"]\n",
    "        cloud = weather_json[\"clouds\"][\"all\"]\n",
    "        windiness = weather_json[\"wind\"][\"speed\"]\n",
    "        country = weather_json[\"sys\"][\"country\"]\n",
    "        date = weather_json[\"dt\"]\n",
    "        city_data.append({\"City\": city,\n",
    "                          \"Lat\": latitude,\n",
    "                            \"Lng\": longitude,\n",
    "                            \"Max Temp\": max_temp,\n",
    "                            \"Humidity\": humidity,\n",
    "                            \"Cloudiness\": cloud,\n",
    "                            \"Wind Speed\": windiness,\n",
    "                            \"Country\": country,\n",
    "                            \"Date\": date,\n",
    "                            })\n",
    "        \n",
    "        print(f\"Processing Record {record_count} of Set {set_count} | {city}\")\n",
    "    except:\n",
    "        print(\"City not found. Skipping...\")\n",
    "        record_count = record_count - 1\n",
    "        pass\n",
    "print(\"------------------------\")\n",
    "print(\"Data Retrieval Complete\")\n",
    "print(\"------------------------\")\n"
   ]
  },
  {
   "cell_type": "markdown",
   "metadata": {},
   "source": [
    "### Convert Raw Data to DataFrame\n",
    "* Export the city data into a .csv.\n",
    "* Display the DataFrame"
   ]
  },
  {
   "cell_type": "code",
   "execution_count": 76,
   "metadata": {},
   "outputs": [
    {
     "data": {
      "text/html": [
       "<div>\n",
       "<style scoped>\n",
       "    .dataframe tbody tr th:only-of-type {\n",
       "        vertical-align: middle;\n",
       "    }\n",
       "\n",
       "    .dataframe tbody tr th {\n",
       "        vertical-align: top;\n",
       "    }\n",
       "\n",
       "    .dataframe thead th {\n",
       "        text-align: right;\n",
       "    }\n",
       "</style>\n",
       "<table border=\"1\" class=\"dataframe\">\n",
       "  <thead>\n",
       "    <tr style=\"text-align: right;\">\n",
       "      <th></th>\n",
       "      <th>City</th>\n",
       "      <th>Lat</th>\n",
       "      <th>Lng</th>\n",
       "      <th>Max Temp</th>\n",
       "      <th>Humidity</th>\n",
       "      <th>Cloudiness</th>\n",
       "      <th>Wind Speed</th>\n",
       "      <th>Country</th>\n",
       "      <th>Date</th>\n",
       "    </tr>\n",
       "  </thead>\n",
       "  <tbody>\n",
       "    <tr>\n",
       "      <th>0</th>\n",
       "      <td>bow island</td>\n",
       "      <td>49.8668</td>\n",
       "      <td>-111.3684</td>\n",
       "      <td>85.26</td>\n",
       "      <td>33</td>\n",
       "      <td>73</td>\n",
       "      <td>6.91</td>\n",
       "      <td>CA</td>\n",
       "      <td>1627349404</td>\n",
       "    </tr>\n",
       "    <tr>\n",
       "      <th>1</th>\n",
       "      <td>ayan</td>\n",
       "      <td>56.4500</td>\n",
       "      <td>138.1667</td>\n",
       "      <td>72.12</td>\n",
       "      <td>53</td>\n",
       "      <td>95</td>\n",
       "      <td>5.19</td>\n",
       "      <td>RU</td>\n",
       "      <td>1627349594</td>\n",
       "    </tr>\n",
       "    <tr>\n",
       "      <th>2</th>\n",
       "      <td>kruisfontein</td>\n",
       "      <td>-34.0033</td>\n",
       "      <td>24.7314</td>\n",
       "      <td>68.88</td>\n",
       "      <td>27</td>\n",
       "      <td>13</td>\n",
       "      <td>18.14</td>\n",
       "      <td>ZA</td>\n",
       "      <td>1627349594</td>\n",
       "    </tr>\n",
       "    <tr>\n",
       "      <th>3</th>\n",
       "      <td>nikolskoye</td>\n",
       "      <td>59.7035</td>\n",
       "      <td>30.7861</td>\n",
       "      <td>60.03</td>\n",
       "      <td>73</td>\n",
       "      <td>6</td>\n",
       "      <td>3.89</td>\n",
       "      <td>RU</td>\n",
       "      <td>1627349595</td>\n",
       "    </tr>\n",
       "    <tr>\n",
       "      <th>4</th>\n",
       "      <td>ushuaia</td>\n",
       "      <td>-54.8000</td>\n",
       "      <td>-68.3000</td>\n",
       "      <td>33.46</td>\n",
       "      <td>86</td>\n",
       "      <td>75</td>\n",
       "      <td>3.44</td>\n",
       "      <td>AR</td>\n",
       "      <td>1627349595</td>\n",
       "    </tr>\n",
       "  </tbody>\n",
       "</table>\n",
       "</div>"
      ],
      "text/plain": [
       "           City      Lat       Lng  Max Temp  Humidity  Cloudiness  \\\n",
       "0    bow island  49.8668 -111.3684     85.26        33          73   \n",
       "1          ayan  56.4500  138.1667     72.12        53          95   \n",
       "2  kruisfontein -34.0033   24.7314     68.88        27          13   \n",
       "3    nikolskoye  59.7035   30.7861     60.03        73           6   \n",
       "4       ushuaia -54.8000  -68.3000     33.46        86          75   \n",
       "\n",
       "   Wind Speed Country        Date  \n",
       "0        6.91      CA  1627349404  \n",
       "1        5.19      RU  1627349594  \n",
       "2       18.14      ZA  1627349594  \n",
       "3        3.89      RU  1627349595  \n",
       "4        3.44      AR  1627349595  "
      ]
     },
     "execution_count": 76,
     "metadata": {},
     "output_type": "execute_result"
    }
   ],
   "source": [
    "city_df = pd.DataFrame(city_data)\n",
    "city_df.head()"
   ]
  },
  {
   "cell_type": "code",
   "execution_count": 77,
   "metadata": {},
   "outputs": [
    {
     "data": {
      "text/html": [
       "<div>\n",
       "<style scoped>\n",
       "    .dataframe tbody tr th:only-of-type {\n",
       "        vertical-align: middle;\n",
       "    }\n",
       "\n",
       "    .dataframe tbody tr th {\n",
       "        vertical-align: top;\n",
       "    }\n",
       "\n",
       "    .dataframe thead th {\n",
       "        text-align: right;\n",
       "    }\n",
       "</style>\n",
       "<table border=\"1\" class=\"dataframe\">\n",
       "  <thead>\n",
       "    <tr style=\"text-align: right;\">\n",
       "      <th></th>\n",
       "      <th>Lat</th>\n",
       "      <th>Lng</th>\n",
       "      <th>Max Temp</th>\n",
       "      <th>Humidity</th>\n",
       "      <th>Cloudiness</th>\n",
       "      <th>Wind Speed</th>\n",
       "      <th>Date</th>\n",
       "    </tr>\n",
       "  </thead>\n",
       "  <tbody>\n",
       "    <tr>\n",
       "      <th>count</th>\n",
       "      <td>572.000000</td>\n",
       "      <td>572.000000</td>\n",
       "      <td>572.000000</td>\n",
       "      <td>572.000000</td>\n",
       "      <td>572.000000</td>\n",
       "      <td>572.000000</td>\n",
       "      <td>5.720000e+02</td>\n",
       "    </tr>\n",
       "    <tr>\n",
       "      <th>mean</th>\n",
       "      <td>19.473643</td>\n",
       "      <td>17.209644</td>\n",
       "      <td>69.359790</td>\n",
       "      <td>70.561189</td>\n",
       "      <td>52.580420</td>\n",
       "      <td>8.178986</td>\n",
       "      <td>1.627350e+09</td>\n",
       "    </tr>\n",
       "    <tr>\n",
       "      <th>std</th>\n",
       "      <td>33.201519</td>\n",
       "      <td>89.055898</td>\n",
       "      <td>13.685585</td>\n",
       "      <td>19.365001</td>\n",
       "      <td>39.626923</td>\n",
       "      <td>5.821557</td>\n",
       "      <td>8.732469e+01</td>\n",
       "    </tr>\n",
       "    <tr>\n",
       "      <th>min</th>\n",
       "      <td>-54.800000</td>\n",
       "      <td>-179.166700</td>\n",
       "      <td>33.460000</td>\n",
       "      <td>13.000000</td>\n",
       "      <td>0.000000</td>\n",
       "      <td>0.000000</td>\n",
       "      <td>1.627349e+09</td>\n",
       "    </tr>\n",
       "    <tr>\n",
       "      <th>25%</th>\n",
       "      <td>-9.030550</td>\n",
       "      <td>-59.968425</td>\n",
       "      <td>60.115000</td>\n",
       "      <td>60.000000</td>\n",
       "      <td>8.000000</td>\n",
       "      <td>4.000000</td>\n",
       "      <td>1.627350e+09</td>\n",
       "    </tr>\n",
       "    <tr>\n",
       "      <th>50%</th>\n",
       "      <td>21.862600</td>\n",
       "      <td>25.250900</td>\n",
       "      <td>71.375000</td>\n",
       "      <td>75.000000</td>\n",
       "      <td>55.000000</td>\n",
       "      <td>6.780000</td>\n",
       "      <td>1.627350e+09</td>\n",
       "    </tr>\n",
       "    <tr>\n",
       "      <th>75%</th>\n",
       "      <td>47.166700</td>\n",
       "      <td>92.181650</td>\n",
       "      <td>80.055000</td>\n",
       "      <td>86.000000</td>\n",
       "      <td>95.000000</td>\n",
       "      <td>10.960000</td>\n",
       "      <td>1.627350e+09</td>\n",
       "    </tr>\n",
       "    <tr>\n",
       "      <th>max</th>\n",
       "      <td>78.218600</td>\n",
       "      <td>178.416700</td>\n",
       "      <td>96.710000</td>\n",
       "      <td>100.000000</td>\n",
       "      <td>100.000000</td>\n",
       "      <td>37.020000</td>\n",
       "      <td>1.627350e+09</td>\n",
       "    </tr>\n",
       "  </tbody>\n",
       "</table>\n",
       "</div>"
      ],
      "text/plain": [
       "              Lat         Lng    Max Temp    Humidity  Cloudiness  Wind Speed  \\\n",
       "count  572.000000  572.000000  572.000000  572.000000  572.000000  572.000000   \n",
       "mean    19.473643   17.209644   69.359790   70.561189   52.580420    8.178986   \n",
       "std     33.201519   89.055898   13.685585   19.365001   39.626923    5.821557   \n",
       "min    -54.800000 -179.166700   33.460000   13.000000    0.000000    0.000000   \n",
       "25%     -9.030550  -59.968425   60.115000   60.000000    8.000000    4.000000   \n",
       "50%     21.862600   25.250900   71.375000   75.000000   55.000000    6.780000   \n",
       "75%     47.166700   92.181650   80.055000   86.000000   95.000000   10.960000   \n",
       "max     78.218600  178.416700   96.710000  100.000000  100.000000   37.020000   \n",
       "\n",
       "               Date  \n",
       "count  5.720000e+02  \n",
       "mean   1.627350e+09  \n",
       "std    8.732469e+01  \n",
       "min    1.627349e+09  \n",
       "25%    1.627350e+09  \n",
       "50%    1.627350e+09  \n",
       "75%    1.627350e+09  \n",
       "max    1.627350e+09  "
      ]
     },
     "execution_count": 77,
     "metadata": {},
     "output_type": "execute_result"
    }
   ],
   "source": [
    "city_df.describe()"
   ]
  },
  {
   "cell_type": "markdown",
   "metadata": {},
   "source": [
    "## Inspect the data and remove the cities where the humidity > 100%.\n",
    "----\n",
    "Skip this step if there are no cities that have humidity > 100%. "
   ]
  },
  {
   "cell_type": "code",
   "execution_count": 78,
   "metadata": {},
   "outputs": [
    {
     "data": {
      "text/html": [
       "<div>\n",
       "<style scoped>\n",
       "    .dataframe tbody tr th:only-of-type {\n",
       "        vertical-align: middle;\n",
       "    }\n",
       "\n",
       "    .dataframe tbody tr th {\n",
       "        vertical-align: top;\n",
       "    }\n",
       "\n",
       "    .dataframe thead th {\n",
       "        text-align: right;\n",
       "    }\n",
       "</style>\n",
       "<table border=\"1\" class=\"dataframe\">\n",
       "  <thead>\n",
       "    <tr style=\"text-align: right;\">\n",
       "      <th></th>\n",
       "      <th>City</th>\n",
       "      <th>Lat</th>\n",
       "      <th>Lng</th>\n",
       "      <th>Max Temp</th>\n",
       "      <th>Humidity</th>\n",
       "      <th>Cloudiness</th>\n",
       "      <th>Wind Speed</th>\n",
       "      <th>Country</th>\n",
       "      <th>Date</th>\n",
       "    </tr>\n",
       "  </thead>\n",
       "  <tbody>\n",
       "  </tbody>\n",
       "</table>\n",
       "</div>"
      ],
      "text/plain": [
       "Empty DataFrame\n",
       "Columns: [City, Lat, Lng, Max Temp, Humidity, Cloudiness, Wind Speed, Country, Date]\n",
       "Index: []"
      ]
     },
     "execution_count": 78,
     "metadata": {},
     "output_type": "execute_result"
    }
   ],
   "source": [
    "city_df.loc[city_df[\"Humidity\"] > 100, :]\n",
    "# In this random draw of cities, there were no cities with humidity greater than 100."
   ]
  },
  {
   "cell_type": "code",
   "execution_count": 6,
   "metadata": {},
   "outputs": [
    {
     "data": {
      "text/html": [
       "<div>\n",
       "<style scoped>\n",
       "    .dataframe tbody tr th:only-of-type {\n",
       "        vertical-align: middle;\n",
       "    }\n",
       "\n",
       "    .dataframe tbody tr th {\n",
       "        vertical-align: top;\n",
       "    }\n",
       "\n",
       "    .dataframe thead th {\n",
       "        text-align: right;\n",
       "    }\n",
       "</style>\n",
       "<table border=\"1\" class=\"dataframe\">\n",
       "  <thead>\n",
       "    <tr style=\"text-align: right;\">\n",
       "      <th></th>\n",
       "      <th>Lat</th>\n",
       "      <th>Lng</th>\n",
       "      <th>Max Temp</th>\n",
       "      <th>Humidity</th>\n",
       "      <th>Cloudiness</th>\n",
       "      <th>Wind Speed</th>\n",
       "      <th>Date</th>\n",
       "    </tr>\n",
       "  </thead>\n",
       "  <tbody>\n",
       "    <tr>\n",
       "      <th>count</th>\n",
       "      <td>550.000000</td>\n",
       "      <td>550.000000</td>\n",
       "      <td>550.000000</td>\n",
       "      <td>550.000000</td>\n",
       "      <td>550.000000</td>\n",
       "      <td>550.000000</td>\n",
       "      <td>5.500000e+02</td>\n",
       "    </tr>\n",
       "    <tr>\n",
       "      <th>mean</th>\n",
       "      <td>19.973545</td>\n",
       "      <td>17.124400</td>\n",
       "      <td>58.331400</td>\n",
       "      <td>67.890909</td>\n",
       "      <td>52.141818</td>\n",
       "      <td>8.544800</td>\n",
       "      <td>1.585764e+09</td>\n",
       "    </tr>\n",
       "    <tr>\n",
       "      <th>std</th>\n",
       "      <td>33.284840</td>\n",
       "      <td>91.595451</td>\n",
       "      <td>25.795297</td>\n",
       "      <td>20.864881</td>\n",
       "      <td>35.766469</td>\n",
       "      <td>6.078869</td>\n",
       "      <td>5.539674e+01</td>\n",
       "    </tr>\n",
       "    <tr>\n",
       "      <th>min</th>\n",
       "      <td>-54.800000</td>\n",
       "      <td>-179.170000</td>\n",
       "      <td>-11.340000</td>\n",
       "      <td>9.000000</td>\n",
       "      <td>0.000000</td>\n",
       "      <td>0.160000</td>\n",
       "      <td>1.585764e+09</td>\n",
       "    </tr>\n",
       "    <tr>\n",
       "      <th>25%</th>\n",
       "      <td>-8.077500</td>\n",
       "      <td>-64.627500</td>\n",
       "      <td>42.800000</td>\n",
       "      <td>55.000000</td>\n",
       "      <td>20.000000</td>\n",
       "      <td>4.525000</td>\n",
       "      <td>1.585764e+09</td>\n",
       "    </tr>\n",
       "    <tr>\n",
       "      <th>50%</th>\n",
       "      <td>23.630000</td>\n",
       "      <td>19.635000</td>\n",
       "      <td>64.940000</td>\n",
       "      <td>72.000000</td>\n",
       "      <td>57.000000</td>\n",
       "      <td>7.325000</td>\n",
       "      <td>1.585764e+09</td>\n",
       "    </tr>\n",
       "    <tr>\n",
       "      <th>75%</th>\n",
       "      <td>48.672500</td>\n",
       "      <td>97.350000</td>\n",
       "      <td>78.800000</td>\n",
       "      <td>83.000000</td>\n",
       "      <td>86.750000</td>\n",
       "      <td>11.410000</td>\n",
       "      <td>1.585764e+09</td>\n",
       "    </tr>\n",
       "    <tr>\n",
       "      <th>max</th>\n",
       "      <td>78.220000</td>\n",
       "      <td>179.320000</td>\n",
       "      <td>102.200000</td>\n",
       "      <td>100.000000</td>\n",
       "      <td>100.000000</td>\n",
       "      <td>46.080000</td>\n",
       "      <td>1.585764e+09</td>\n",
       "    </tr>\n",
       "  </tbody>\n",
       "</table>\n",
       "</div>"
      ],
      "text/plain": [
       "              Lat         Lng    Max Temp    Humidity  Cloudiness  Wind Speed  \\\n",
       "count  550.000000  550.000000  550.000000  550.000000  550.000000  550.000000   \n",
       "mean    19.973545   17.124400   58.331400   67.890909   52.141818    8.544800   \n",
       "std     33.284840   91.595451   25.795297   20.864881   35.766469    6.078869   \n",
       "min    -54.800000 -179.170000  -11.340000    9.000000    0.000000    0.160000   \n",
       "25%     -8.077500  -64.627500   42.800000   55.000000   20.000000    4.525000   \n",
       "50%     23.630000   19.635000   64.940000   72.000000   57.000000    7.325000   \n",
       "75%     48.672500   97.350000   78.800000   83.000000   86.750000   11.410000   \n",
       "max     78.220000  179.320000  102.200000  100.000000  100.000000   46.080000   \n",
       "\n",
       "               Date  \n",
       "count  5.500000e+02  \n",
       "mean   1.585764e+09  \n",
       "std    5.539674e+01  \n",
       "min    1.585764e+09  \n",
       "25%    1.585764e+09  \n",
       "50%    1.585764e+09  \n",
       "75%    1.585764e+09  \n",
       "max    1.585764e+09  "
      ]
     },
     "execution_count": 6,
     "metadata": {},
     "output_type": "execute_result"
    }
   ],
   "source": [
    "# Skip"
   ]
  },
  {
   "cell_type": "code",
   "execution_count": 17,
   "metadata": {},
   "outputs": [
    {
     "data": {
      "text/plain": [
       "Int64Index([], dtype='int64')"
      ]
     },
     "execution_count": 17,
     "metadata": {},
     "output_type": "execute_result"
    }
   ],
   "source": [
    "#  Get the indices of cities that have humidity over 100%.\n",
    "# skip"
   ]
  },
  {
   "cell_type": "code",
   "execution_count": 19,
   "metadata": {},
   "outputs": [
    {
     "data": {
      "text/html": [
       "<div>\n",
       "<style scoped>\n",
       "    .dataframe tbody tr th:only-of-type {\n",
       "        vertical-align: middle;\n",
       "    }\n",
       "\n",
       "    .dataframe tbody tr th {\n",
       "        vertical-align: top;\n",
       "    }\n",
       "\n",
       "    .dataframe thead th {\n",
       "        text-align: right;\n",
       "    }\n",
       "</style>\n",
       "<table border=\"1\" class=\"dataframe\">\n",
       "  <thead>\n",
       "    <tr style=\"text-align: right;\">\n",
       "      <th></th>\n",
       "      <th>City</th>\n",
       "      <th>Lat</th>\n",
       "      <th>Lng</th>\n",
       "      <th>Max Temp</th>\n",
       "      <th>Humidity</th>\n",
       "      <th>Cloudiness</th>\n",
       "      <th>Wind Speed</th>\n",
       "      <th>Country</th>\n",
       "      <th>Date</th>\n",
       "    </tr>\n",
       "  </thead>\n",
       "  <tbody>\n",
       "    <tr>\n",
       "      <td>0</td>\n",
       "      <td>butaritari</td>\n",
       "      <td>3.07</td>\n",
       "      <td>172.79</td>\n",
       "      <td>83.32</td>\n",
       "      <td>74</td>\n",
       "      <td>84</td>\n",
       "      <td>10.42</td>\n",
       "      <td>KI</td>\n",
       "      <td>1593605283</td>\n",
       "    </tr>\n",
       "    <tr>\n",
       "      <td>1</td>\n",
       "      <td>yerbogachen</td>\n",
       "      <td>61.28</td>\n",
       "      <td>108.01</td>\n",
       "      <td>79.52</td>\n",
       "      <td>58</td>\n",
       "      <td>20</td>\n",
       "      <td>7.70</td>\n",
       "      <td>RU</td>\n",
       "      <td>1593605121</td>\n",
       "    </tr>\n",
       "    <tr>\n",
       "      <td>2</td>\n",
       "      <td>cape town</td>\n",
       "      <td>-33.93</td>\n",
       "      <td>18.42</td>\n",
       "      <td>73.00</td>\n",
       "      <td>77</td>\n",
       "      <td>27</td>\n",
       "      <td>4.70</td>\n",
       "      <td>ZA</td>\n",
       "      <td>1593605039</td>\n",
       "    </tr>\n",
       "    <tr>\n",
       "      <td>3</td>\n",
       "      <td>touba</td>\n",
       "      <td>8.28</td>\n",
       "      <td>-7.68</td>\n",
       "      <td>79.97</td>\n",
       "      <td>75</td>\n",
       "      <td>82</td>\n",
       "      <td>3.58</td>\n",
       "      <td>CI</td>\n",
       "      <td>1593605284</td>\n",
       "    </tr>\n",
       "    <tr>\n",
       "      <td>4</td>\n",
       "      <td>jamestown</td>\n",
       "      <td>42.10</td>\n",
       "      <td>-79.24</td>\n",
       "      <td>64.00</td>\n",
       "      <td>88</td>\n",
       "      <td>1</td>\n",
       "      <td>6.93</td>\n",
       "      <td>US</td>\n",
       "      <td>1593605284</td>\n",
       "    </tr>\n",
       "  </tbody>\n",
       "</table>\n",
       "</div>"
      ],
      "text/plain": [
       "          City    Lat     Lng  Max Temp  Humidity  Cloudiness  Wind Speed  \\\n",
       "0   butaritari   3.07  172.79     83.32        74          84       10.42   \n",
       "1  yerbogachen  61.28  108.01     79.52        58          20        7.70   \n",
       "2    cape town -33.93   18.42     73.00        77          27        4.70   \n",
       "3        touba   8.28   -7.68     79.97        75          82        3.58   \n",
       "4    jamestown  42.10  -79.24     64.00        88           1        6.93   \n",
       "\n",
       "  Country        Date  \n",
       "0      KI  1593605283  \n",
       "1      RU  1593605121  \n",
       "2      ZA  1593605039  \n",
       "3      CI  1593605284  \n",
       "4      US  1593605284  "
      ]
     },
     "execution_count": 19,
     "metadata": {},
     "output_type": "execute_result"
    }
   ],
   "source": [
    "# Make a new DataFrame equal to the city data to drop all humidity outliers by index.\n",
    "# Skip"
   ]
  },
  {
   "cell_type": "markdown",
   "metadata": {},
   "source": [
    "## Plotting the Data\n",
    "* Use proper labeling of the plots using plot titles (including date of analysis) and axes labels.\n",
    "* Save the plotted figures as .pngs."
   ]
  },
  {
   "cell_type": "markdown",
   "metadata": {},
   "source": [
    "## Latitude vs. Temperature Plot"
   ]
  },
  {
   "cell_type": "code",
   "execution_count": 79,
   "metadata": {},
   "outputs": [
    {
     "data": {
      "image/png": "[encoded data removed]",
      "text/plain": [
       "<Figure size 432x288 with 1 Axes>"
      ]
     },
     "metadata": {
      "needs_background": "light"
     },
     "output_type": "display_data"
    }
   ],
   "source": [
    "city_df.plot(x = \"Lat\", y = \"Max Temp\", kind = \"scatter\", title = \"City Latitude vs Max Temperature (04/01/20)\", grid = True)\n",
    "plt.xlabel(\"Latitude\")\n",
    "plt.ylabel(\"Max Temperature (F)\")\n",
    "plt.show()"
   ]
  },
  {
   "cell_type": "markdown",
   "metadata": {},
   "source": [
    "## Latitude vs. Humidity Plot"
   ]
  },
  {
   "cell_type": "code",
   "execution_count": 80,
   "metadata": {},
   "outputs": [
    {
     "data": {
      "image/png": "[encoded data removed]",
      "text/plain": [
       "<Figure size 432x288 with 1 Axes>"
      ]
     },
     "metadata": {
      "needs_background": "light"
     },
     "output_type": "display_data"
    }
   ],
   "source": [
    "city_df.plot(x = \"Lat\", y = \"Humidity\", kind = \"scatter\", title = \"City Latitude vs Humidity (04/01/20)\", grid = True)\n",
    "plt.xlabel(\"Latitude\")\n",
    "plt.ylabel(\"Humidity (%)\")\n",
    "plt.show()"
   ]
  },
  {
   "cell_type": "markdown",
   "metadata": {},
   "source": [
    "## Latitude vs. Cloudiness Plot"
   ]
  },
  {
   "cell_type": "code",
   "execution_count": 81,
   "metadata": {},
   "outputs": [
    {
     "data": {
      "image/png": "[encoded data removed]",
      "text/plain": [
       "<Figure size 432x288 with 1 Axes>"
      ]
     },
     "metadata": {
      "needs_background": "light"
     },
     "output_type": "display_data"
    }
   ],
   "source": [
    "city_df.plot(x = \"Lat\", y = \"Cloudiness\", kind = \"scatter\", title = \"City Latitude vs Humidity (04/01/20)\", grid = True)\n",
    "plt.xlabel(\"Latitude\")\n",
    "plt.ylabel(\"Cloudiness (%)\")\n",
    "plt.show()"
   ]
  },
  {
   "cell_type": "markdown",
   "metadata": {},
   "source": [
    "## Latitude vs. Wind Speed Plot"
   ]
  },
  {
   "cell_type": "code",
   "execution_count": 82,
   "metadata": {},
   "outputs": [
    {
     "data": {
      "image/png": "[encoded data removed]",
      "text/plain": [
       "<Figure size 432x288 with 1 Axes>"
      ]
     },
     "metadata": {
      "needs_background": "light"
     },
     "output_type": "display_data"
    }
   ],
   "source": [
    "city_df.plot(x = \"Lat\", y = \"Wind Speed\", kind = \"scatter\", title = \"City Latitude vs Humidity (04/01/20)\", grid = True)\n",
    "plt.xlabel(\"Latitude\")\n",
    "plt.ylabel(\"Wind Speed (mph)\")\n",
    "plt.show()"
   ]
  },
  {
   "cell_type": "markdown",
   "metadata": {},
   "source": [
    "## Linear Regression"
   ]
  },
  {
   "cell_type": "code",
   "execution_count": 24,
   "metadata": {},
   "outputs": [],
   "source": []
  },
  {
   "cell_type": "markdown",
   "metadata": {},
   "source": [
    "####  Northern Hemisphere - Max Temp vs. Latitude Linear Regression"
   ]
  },
  {
   "cell_type": "code",
   "execution_count": 25,
   "metadata": {},
   "outputs": [
    {
     "name": "stdout",
     "output_type": "stream",
     "text": [
      "The r-value is: 0.46937863826630627\n"
     ]
    },
    {
     "data": {
      "image/png": "[encoded data removed]",
      "text/plain": [
       "<Figure size 432x288 with 1 Axes>"
      ]
     },
     "metadata": {
      "needs_background": "light"
     },
     "output_type": "display_data"
    }
   ],
   "source": []
  },
  {
   "cell_type": "markdown",
   "metadata": {},
   "source": [
    "####  Southern Hemisphere - Max Temp vs. Latitude Linear Regression"
   ]
  },
  {
   "cell_type": "code",
   "execution_count": 26,
   "metadata": {},
   "outputs": [
    {
     "name": "stdout",
     "output_type": "stream",
     "text": [
      "The r-value is: 0.6082708688906918\n"
     ]
    },
    {
     "data": {
      "image/png": "[encoded data removed]",
      "text/plain": [
       "<Figure size 432x288 with 1 Axes>"
      ]
     },
     "metadata": {
      "needs_background": "light"
     },
     "output_type": "display_data"
    }
   ],
   "source": []
  },
  {
   "cell_type": "markdown",
   "metadata": {},
   "source": [
    "####  Northern Hemisphere - Humidity (%) vs. Latitude Linear Regression"
   ]
  },
  {
   "cell_type": "code",
   "execution_count": 27,
   "metadata": {},
   "outputs": [
    {
     "name": "stdout",
     "output_type": "stream",
     "text": [
      "The r-value is: 0.000543987878808455\n"
     ]
    },
    {
     "data": {
      "image/png": "[encoded data removed]",
      "text/plain": [
       "<Figure size 432x288 with 1 Axes>"
      ]
     },
     "metadata": {
      "needs_background": "light"
     },
     "output_type": "display_data"
    }
   ],
   "source": []
  },
  {
   "cell_type": "markdown",
   "metadata": {},
   "source": [
    "####  Southern Hemisphere - Humidity (%) vs. Latitude Linear Regression"
   ]
  },
  {
   "cell_type": "code",
   "execution_count": 28,
   "metadata": {},
   "outputs": [
    {
     "name": "stdout",
     "output_type": "stream",
     "text": [
      "The r-value is: 0.014985174297345524\n"
     ]
    },
    {
     "data": {
      "image/png": "[encoded data removed]",
      "text/plain": [
       "<Figure size 432x288 with 1 Axes>"
      ]
     },
     "metadata": {
      "needs_background": "light"
     },
     "output_type": "display_data"
    }
   ],
   "source": []
  },
  {
   "cell_type": "markdown",
   "metadata": {},
   "source": [
    "####  Northern Hemisphere - Cloudiness (%) vs. Latitude Linear Regression"
   ]
  },
  {
   "cell_type": "code",
   "execution_count": 29,
   "metadata": {},
   "outputs": [
    {
     "name": "stdout",
     "output_type": "stream",
     "text": [
      "The r-value is: 0.0020898727664228514\n"
     ]
    },
    {
     "data": {
      "image/png": "[encoded data removed]",
      "text/plain": [
       "<Figure size 432x288 with 1 Axes>"
      ]
     },
     "metadata": {
      "needs_background": "light"
     },
     "output_type": "display_data"
    }
   ],
   "source": []
  },
  {
   "cell_type": "markdown",
   "metadata": {},
   "source": [
    "####  Southern Hemisphere - Cloudiness (%) vs. Latitude Linear Regression"
   ]
  },
  {
   "cell_type": "code",
   "execution_count": 30,
   "metadata": {},
   "outputs": [
    {
     "name": "stdout",
     "output_type": "stream",
     "text": [
      "The r-value is: 0.0035263772085582894\n"
     ]
    },
    {
     "data": {
      "image/png": "[encoded data removed]",
      "text/plain": [
       "<Figure size 432x288 with 1 Axes>"
      ]
     },
     "metadata": {
      "needs_background": "light"
     },
     "output_type": "display_data"
    }
   ],
   "source": []
  },
  {
   "cell_type": "markdown",
   "metadata": {},
   "source": [
    "####  Northern Hemisphere - Wind Speed (mph) vs. Latitude Linear Regression"
   ]
  },
  {
   "cell_type": "code",
   "execution_count": 31,
   "metadata": {},
   "outputs": [
    {
     "name": "stdout",
     "output_type": "stream",
     "text": [
      "The r-value is: 0.04019723576144484\n"
     ]
    },
    {
     "data": {
      "image/png": "[encoded data removed]",
      "text/plain": [
       "<Figure size 432x288 with 1 Axes>"
      ]
     },
     "metadata": {
      "needs_background": "light"
     },
     "output_type": "display_data"
    }
   ],
   "source": []
  },
  {
   "cell_type": "markdown",
   "metadata": {},
   "source": [
    "####  Southern Hemisphere - Wind Speed (mph) vs. Latitude Linear Regression"
   ]
  },
  {
   "cell_type": "code",
   "execution_count": 32,
   "metadata": {},
   "outputs": [
    {
     "name": "stdout",
     "output_type": "stream",
     "text": [
      "The r-value is: 0.017128274759839232\n"
     ]
    },
    {
     "data": {
      "image/png": "[encoded data removed]",
      "text/plain": [
       "<Figure size 432x288 with 1 Axes>"
      ]
     },
     "metadata": {
      "needs_background": "light"
     },
     "output_type": "display_data"
    }
   ],
   "source": []
  },
  {
   "cell_type": "code",
   "execution_count": null,
   "metadata": {},
   "outputs": [],
   "source": []
  }
 ],
 "metadata": {
  "anaconda-cloud": {},
  "kernel_info": {
   "name": "python3"
  },
  "kernelspec": {
   "display_name": "Python 3",
   "language": "python",
   "name": "python3"
  },
  "language_info": {
   "codemirror_mode": {
    "name": "ipython",
    "version": 3
   },
   "file_extension": ".py",
   "mimetype": "text/x-python",
   "name": "python",
   "nbconvert_exporter": "python",
   "pygments_lexer": "ipython3",
   "version": "3.7.6"
  },
  "latex_envs": {
   "LaTeX_envs_menu_present": true,
   "autoclose": false,
   "autocomplete": true,
   "bibliofile": "biblio.bib",
   "cite_by": "apalike",
   "current_citInitial": 1,
   "eqLabelWithNumbers": true,
   "eqNumInitial": 1,
   "hotkeys": {
    "equation": "Ctrl-E",
    "itemize": "Ctrl-I"
   },
   "labels_anchors": false,
   "latex_user_defs": false,
   "report_style_numbering": false,
   "user_envs_cfg": false
  },
  "nteract": {
   "version": "0.12.3"
  }
 },
 "nbformat": 4,
 "nbformat_minor": 2
}
