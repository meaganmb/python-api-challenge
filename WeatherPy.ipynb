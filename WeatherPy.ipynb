{
 "cells": [
  {
   "cell_type": "markdown",
   "metadata": {},
   "source": [
    "# WeatherPy\n",
    "----\n",
    "\n",
    "#### Note\n",
    "* Instructions have been included for each segment. You do not have to follow them exactly, but they are included to help you think through the steps."
   ]
  },
  {
   "cell_type": "code",
   "execution_count": 1,
   "metadata": {
    "scrolled": true
   },
   "outputs": [],
   "source": [
    "# Dependencies and Setup\n",
    "import matplotlib.pyplot as plt\n",
    "import pandas as pd\n",
    "import numpy as np\n",
    "import requests\n",
    "import time\n",
    "import scipy.stats as st\n",
    "from scipy.stats import linregress\n",
    "\n",
    "# Import API key\n",
    "from api_keys import weather_api_key\n",
    "\n",
    "# Incorporated citipy to determine city based on latitude and longitude\n",
    "from citipy import citipy\n",
    "\n",
    "# Output File (CSV)\n",
    "output_data_file = \"output_data/cities.csv\"\n",
    "\n",
    "# Range of latitudes and longitudes\n",
    "lat_range = (-90, 90)\n",
    "lng_range = (-180, 180)"
   ]
  },
  {
   "cell_type": "markdown",
   "metadata": {},
   "source": [
    "## Generate Cities List"
   ]
  },
  {
   "cell_type": "code",
   "execution_count": 2,
   "metadata": {},
   "outputs": [
    {
     "name": "stdout",
     "output_type": "stream",
     "text": [
      "Requirement already satisfied: citipy in /Users/meaganmb_11/opt/anaconda3/lib/python3.7/site-packages (0.0.5)\n",
      "Requirement already satisfied: kdtree>=0.12 in /Users/meaganmb_11/opt/anaconda3/lib/python3.7/site-packages (from citipy) (0.16)\n",
      "Note: you may need to restart the kernel to use updated packages.\n"
     ]
    }
   ],
   "source": [
    "# pip install citipy"
   ]
  },
  {
   "cell_type": "code",
   "execution_count": 2,
   "metadata": {},
   "outputs": [
    {
     "data": {
      "text/plain": [
       "628"
      ]
     },
     "execution_count": 2,
     "metadata": {},
     "output_type": "execute_result"
    }
   ],
   "source": [
    "# List for holding lat_lngs and cities\n",
    "lat_lngs = []\n",
    "cities = []\n",
    "\n",
    "# Create a set of random lat and lng combinations\n",
    "lats = np.random.uniform(lat_range[0], lat_range[1], size=1500)\n",
    "lngs = np.random.uniform(lng_range[0], lng_range[1], size=1500)\n",
    "lat_lngs = zip(lats, lngs)\n",
    "\n",
    "# Identify nearest city for each lat, lng combination\n",
    "for lat_lng in lat_lngs:\n",
    "    city = citipy.nearest_city(lat_lng[0], lat_lng[1]).city_name\n",
    "    \n",
    "    # If the city is unique, then add it to a our cities list\n",
    "    if city not in cities:\n",
    "        cities.append(city)\n",
    "\n",
    "# Print the city count to confirm sufficient count\n",
    "len(cities)"
   ]
  },
  {
   "cell_type": "markdown",
   "metadata": {},
   "source": [
    "### Perform API Calls\n",
    "* Perform a weather check on each city using a series of successive API calls.\n",
    "* Include a print log of each city as it'sbeing processed (with the city number and city name).\n"
   ]
  },
  {
   "cell_type": "code",
   "execution_count": 6,
   "metadata": {},
   "outputs": [],
   "source": [
    "# Type url\n",
    "url = \"http://api.openweathermap.org/data/2.5/weather?\"\n",
    "\n",
    "# Build query URL and request your results in Imperial Units\n",
    "query_url = f\"{url}appid={weather_api_key}&q=London&units=Imperial\"\n",
    "\n",
    "# Get weather data\n",
    "weather_response = requests.get(query_url)\n",
    "weather_json = weather_response.json()"
   ]
  },
  {
   "cell_type": "code",
   "execution_count": 7,
   "metadata": {},
   "outputs": [
    {
     "data": {
      "text/plain": [
       "{'coord': {'lon': -0.1257, 'lat': 51.5085},\n",
       " 'weather': [{'id': 803,\n",
       "   'main': 'Clouds',\n",
       "   'description': 'broken clouds',\n",
       "   'icon': '04d'}],\n",
       " 'base': 'stations',\n",
       " 'main': {'temp': 61.7,\n",
       "  'feels_like': 61.81,\n",
       "  'temp_min': 59.49,\n",
       "  'temp_max': 63.18,\n",
       "  'pressure': 1007,\n",
       "  'humidity': 90},\n",
       " 'visibility': 10000,\n",
       " 'wind': {'speed': 1.01, 'deg': 257, 'gust': 5.01},\n",
       " 'clouds': {'all': 75},\n",
       " 'dt': 1627453694,\n",
       " 'sys': {'type': 2,\n",
       "  'id': 2019646,\n",
       "  'country': 'GB',\n",
       "  'sunrise': 1627445901,\n",
       "  'sunset': 1627502124},\n",
       " 'timezone': 3600,\n",
       " 'id': 2643743,\n",
       " 'name': 'London',\n",
       " 'cod': 200}"
      ]
     },
     "execution_count": 7,
     "metadata": {},
     "output_type": "execute_result"
    }
   ],
   "source": [
    "# Show weather json\n",
    "weather_json"
   ]
  },
  {
   "cell_type": "code",
   "execution_count": 8,
   "metadata": {},
   "outputs": [
    {
     "name": "stdout",
     "output_type": "stream",
     "text": [
      "Beginning Data Retrieval\n",
      "------------------------\n",
      "Processing Record 1 of Set 1 | yaan\n",
      "Processing Record 2 of Set 1 | paamiut\n",
      "Processing Record 3 of Set 1 | iqaluit\n",
      "Processing Record 4 of Set 1 | mataura\n",
      "Processing Record 5 of Set 1 | vardo\n",
      "Processing Record 6 of Set 1 | upernavik\n",
      "Processing Record 7 of Set 1 | murowana goslina\n",
      "Processing Record 8 of Set 1 | vaitape\n",
      "Processing Record 9 of Set 1 | acapulco\n",
      "Processing Record 10 of Set 1 | qaanaaq\n",
      "Processing Record 11 of Set 1 | loralai\n",
      "Processing Record 12 of Set 1 | bluff\n",
      "Processing Record 13 of Set 1 | mokhsogollokh\n",
      "Processing Record 14 of Set 1 | rikitea\n",
      "Processing Record 15 of Set 1 | dongsheng\n",
      "Processing Record 16 of Set 1 | ushuaia\n",
      "Processing Record 17 of Set 1 | xinzhou\n",
      "Processing Record 18 of Set 1 | yellowknife\n",
      "City not found. Skipping...\n",
      "Processing Record 19 of Set 1 | corum\n",
      "Processing Record 20 of Set 1 | provideniya\n",
      "Processing Record 21 of Set 1 | aksu\n",
      "Processing Record 22 of Set 1 | luderitz\n",
      "City not found. Skipping...\n",
      "City not found. Skipping...\n",
      "Processing Record 23 of Set 1 | port alfred\n",
      "Processing Record 24 of Set 1 | atuona\n",
      "Processing Record 25 of Set 1 | hermanus\n",
      "Processing Record 26 of Set 1 | nanortalik\n",
      "Processing Record 27 of Set 1 | porto novo\n",
      "Processing Record 28 of Set 1 | saint-philippe\n",
      "City not found. Skipping...\n",
      "Processing Record 29 of Set 1 | marawi\n",
      "Processing Record 30 of Set 1 | seoul\n",
      "Processing Record 31 of Set 1 | kenora\n",
      "Processing Record 32 of Set 1 | kruisfontein\n",
      "Processing Record 33 of Set 1 | nikolskoye\n",
      "Processing Record 34 of Set 1 | kalmar\n",
      "Processing Record 35 of Set 1 | bethel\n",
      "Processing Record 36 of Set 1 | talnakh\n",
      "Processing Record 37 of Set 1 | katsuura\n",
      "Processing Record 38 of Set 1 | jamestown\n",
      "Processing Record 39 of Set 1 | punta arenas\n",
      "Processing Record 40 of Set 1 | butaritari\n",
      "Processing Record 41 of Set 1 | faanui\n",
      "Processing Record 42 of Set 1 | bambous virieux\n",
      "Processing Record 43 of Set 1 | prince rupert\n",
      "Processing Record 44 of Set 1 | magalia\n",
      "Processing Record 45 of Set 1 | xining\n",
      "Processing Record 46 of Set 1 | flinders\n",
      "Processing Record 47 of Set 1 | pevek\n",
      "Processing Record 48 of Set 1 | barrow\n",
      "Processing Record 49 of Set 1 | bago\n",
      "Processing Record 0 of Set 2 | airai\n",
      "Processing Record 1 of Set 2 | pilar\n",
      "Processing Record 2 of Set 2 | grand gaube\n",
      "City not found. Skipping...\n",
      "Processing Record 3 of Set 2 | torzhok\n",
      "Processing Record 4 of Set 2 | avarua\n",
      "Processing Record 5 of Set 2 | hilo\n",
      "Processing Record 6 of Set 2 | albany\n",
      "Processing Record 7 of Set 2 | caravelas\n",
      "Processing Record 8 of Set 2 | tasiilaq\n",
      "Processing Record 9 of Set 2 | leningradskiy\n",
      "Processing Record 10 of Set 2 | saint-denis\n",
      "Processing Record 11 of Set 2 | lompoc\n",
      "Processing Record 12 of Set 2 | koplik\n",
      "Processing Record 13 of Set 2 | loukhi\n",
      "Processing Record 14 of Set 2 | mbaiki\n",
      "Processing Record 15 of Set 2 | karatau\n",
      "Processing Record 16 of Set 2 | nohar\n",
      "Processing Record 17 of Set 2 | saint george\n",
      "Processing Record 18 of Set 2 | chokurdakh\n",
      "Processing Record 19 of Set 2 | sawakin\n",
      "Processing Record 20 of Set 2 | aboisso\n",
      "Processing Record 21 of Set 2 | cherskiy\n",
      "Processing Record 22 of Set 2 | hobart\n",
      "Processing Record 23 of Set 2 | saint anthony\n",
      "City not found. Skipping...\n",
      "Processing Record 24 of Set 2 | baruun-urt\n",
      "Processing Record 25 of Set 2 | vaini\n",
      "City not found. Skipping...\n",
      "Processing Record 26 of Set 2 | new norfolk\n",
      "Processing Record 27 of Set 2 | havelock\n",
      "Processing Record 28 of Set 2 | idenao\n",
      "Processing Record 29 of Set 2 | tual\n",
      "Processing Record 30 of Set 2 | mar del plata\n",
      "Processing Record 31 of Set 2 | bengkulu\n",
      "Processing Record 32 of Set 2 | washington\n",
      "Processing Record 33 of Set 2 | kaitangata\n",
      "Processing Record 34 of Set 2 | pokhara\n",
      "Processing Record 35 of Set 2 | severo-kurilsk\n",
      "Processing Record 36 of Set 2 | kirkland lake\n",
      "Processing Record 37 of Set 2 | cockburn town\n",
      "Processing Record 38 of Set 2 | sulya\n",
      "Processing Record 39 of Set 2 | east london\n",
      "Processing Record 40 of Set 2 | cayenne\n",
      "Processing Record 41 of Set 2 | ballina\n",
      "Processing Record 42 of Set 2 | areka\n",
      "Processing Record 43 of Set 2 | madingou\n",
      "Processing Record 44 of Set 2 | mbuji-mayi\n",
      "Processing Record 45 of Set 2 | bredasdorp\n",
      "Processing Record 46 of Set 2 | turukhansk\n",
      "Processing Record 47 of Set 2 | ilulissat\n",
      "Processing Record 48 of Set 2 | guasdualito\n",
      "Processing Record 49 of Set 2 | bella union\n",
      "Processing Record 0 of Set 3 | lebu\n",
      "Processing Record 1 of Set 3 | kodiak\n",
      "Processing Record 2 of Set 3 | plettenberg bay\n",
      "Processing Record 3 of Set 3 | georgetown\n",
      "Processing Record 4 of Set 3 | bud\n",
      "Processing Record 5 of Set 3 | esperance\n",
      "Processing Record 6 of Set 3 | misratah\n",
      "Processing Record 7 of Set 3 | qaqortoq\n",
      "Processing Record 8 of Set 3 | filadelfia\n",
      "Processing Record 9 of Set 3 | aklavik\n",
      "Processing Record 10 of Set 3 | hamilton\n",
      "Processing Record 11 of Set 3 | kieta\n",
      "Processing Record 12 of Set 3 | pisco\n",
      "Processing Record 13 of Set 3 | kathu\n",
      "Processing Record 14 of Set 3 | vanavara\n",
      "Processing Record 15 of Set 3 | cape town\n",
      "Processing Record 16 of Set 3 | klaksvik\n",
      "Processing Record 17 of Set 3 | aripuana\n",
      "Processing Record 18 of Set 3 | alice springs\n",
      "Processing Record 19 of Set 3 | tiznit\n",
      "City not found. Skipping...\n",
      "Processing Record 20 of Set 3 | kushnarenkovo\n",
      "Processing Record 21 of Set 3 | puerto ayora\n",
      "Processing Record 22 of Set 3 | erdenet\n",
      "Processing Record 23 of Set 3 | vao\n",
      "Processing Record 24 of Set 3 | wanlaweyn\n",
      "Processing Record 25 of Set 3 | kavaratti\n",
      "Processing Record 26 of Set 3 | ocampo\n",
      "Processing Record 27 of Set 3 | sisimiut\n",
      "Processing Record 28 of Set 3 | arivonimamo\n",
      "Processing Record 29 of Set 3 | cabo san lucas\n",
      "Processing Record 30 of Set 3 | kawalu\n",
      "Processing Record 31 of Set 3 | diamantino\n",
      "Processing Record 32 of Set 3 | madang\n",
      "Processing Record 33 of Set 3 | waddan\n",
      "City not found. Skipping...\n",
      "Processing Record 34 of Set 3 | saskylakh\n",
      "Processing Record 35 of Set 3 | mount gambier\n",
      "Processing Record 36 of Set 3 | svetlyy\n",
      "Processing Record 37 of Set 3 | ayr\n",
      "Processing Record 38 of Set 3 | tuatapere\n",
      "Processing Record 39 of Set 3 | ambanja\n",
      "Processing Record 40 of Set 3 | auki\n",
      "Processing Record 41 of Set 3 | norfolk\n",
      "Processing Record 42 of Set 3 | koumac\n",
      "Processing Record 43 of Set 3 | quepos\n",
      "Processing Record 44 of Set 3 | kapaa\n",
      "Processing Record 45 of Set 3 | avera\n",
      "Processing Record 46 of Set 3 | perth\n",
      "Processing Record 47 of Set 3 | kalmunai\n",
      "Processing Record 48 of Set 3 | chiredzi\n",
      "Processing Record 49 of Set 3 | victoria\n",
      "Processing Record 0 of Set 4 | shubarkuduk\n",
      "Processing Record 1 of Set 4 | port lincoln\n",
      "Processing Record 2 of Set 4 | kavieng\n",
      "Processing Record 3 of Set 4 | port elizabeth\n",
      "Processing Record 4 of Set 4 | braganca\n",
      "Processing Record 5 of Set 4 | baykit\n",
      "Processing Record 6 of Set 4 | touros\n",
      "Processing Record 7 of Set 4 | mayo\n",
      "Processing Record 8 of Set 4 | duma\n",
      "Processing Record 9 of Set 4 | ixtapa\n",
      "City not found. Skipping...\n",
      "Processing Record 10 of Set 4 | dwarka\n",
      "Processing Record 11 of Set 4 | natal\n",
      "Processing Record 12 of Set 4 | nalgonda\n",
      "Processing Record 13 of Set 4 | ribeira grande\n",
      "Processing Record 14 of Set 4 | dikson\n",
      "Processing Record 15 of Set 4 | kilmallock\n",
      "Processing Record 16 of Set 4 | harper\n",
      "Processing Record 17 of Set 4 | hobyo\n",
      "Processing Record 18 of Set 4 | gonbad-e qabus\n",
      "Processing Record 19 of Set 4 | palmer\n",
      "Processing Record 20 of Set 4 | busselton\n",
      "Processing Record 21 of Set 4 | tuktoyaktuk\n",
      "Processing Record 22 of Set 4 | khatanga\n",
      "Processing Record 23 of Set 4 | pangnirtung\n",
      "Processing Record 24 of Set 4 | vestmannaeyjar\n",
      "Processing Record 25 of Set 4 | kandla\n",
      "Processing Record 26 of Set 4 | meiganga\n",
      "Processing Record 27 of Set 4 | bilma\n",
      "Processing Record 28 of Set 4 | qasigiannguit\n",
      "City not found. Skipping...\n",
      "Processing Record 29 of Set 4 | geraldton\n",
      "Processing Record 30 of Set 4 | chuy\n",
      "Processing Record 31 of Set 4 | ahipara\n",
      "Processing Record 32 of Set 4 | burnie\n",
      "Processing Record 33 of Set 4 | dzhebariki-khaya\n",
      "Processing Record 34 of Set 4 | puerto madryn\n",
      "Processing Record 35 of Set 4 | hithadhoo\n",
      "City not found. Skipping...\n",
      "Processing Record 36 of Set 4 | galle\n",
      "Processing Record 37 of Set 4 | eirunepe\n",
      "Processing Record 38 of Set 4 | salalah\n",
      "Processing Record 39 of Set 4 | constitucion\n",
      "Processing Record 40 of Set 4 | karsiyang\n",
      "City not found. Skipping...\n"
     ]
    },
    {
     "name": "stdout",
     "output_type": "stream",
     "text": [
      "Processing Record 41 of Set 4 | terrassa\n",
      "Processing Record 42 of Set 4 | strathmore\n",
      "Processing Record 43 of Set 4 | comodoro rivadavia\n",
      "Processing Record 44 of Set 4 | thompson\n",
      "Processing Record 45 of Set 4 | vila franca do campo\n",
      "Processing Record 46 of Set 4 | tabou\n",
      "City not found. Skipping...\n",
      "Processing Record 47 of Set 4 | nguruka\n",
      "Processing Record 48 of Set 4 | wanaka\n",
      "Processing Record 49 of Set 4 | carnarvon\n",
      "Processing Record 0 of Set 5 | itaquyry\n",
      "Processing Record 1 of Set 5 | kokopo\n",
      "Processing Record 2 of Set 5 | arraial do cabo\n",
      "Processing Record 3 of Set 5 | anori\n",
      "City not found. Skipping...\n",
      "Processing Record 4 of Set 5 | sibolga\n",
      "Processing Record 5 of Set 5 | krasnoselkup\n",
      "Processing Record 6 of Set 5 | havre-saint-pierre\n",
      "Processing Record 7 of Set 5 | broome\n",
      "Processing Record 8 of Set 5 | alenquer\n",
      "Processing Record 9 of Set 5 | fukue\n",
      "City not found. Skipping...\n",
      "Processing Record 10 of Set 5 | hailar\n",
      "Processing Record 11 of Set 5 | chimbote\n",
      "Processing Record 12 of Set 5 | kargil\n",
      "Processing Record 13 of Set 5 | montepuez\n",
      "Processing Record 14 of Set 5 | ajdabiya\n",
      "Processing Record 15 of Set 5 | ville-marie\n",
      "Processing Record 16 of Set 5 | marzuq\n",
      "City not found. Skipping...\n",
      "Processing Record 17 of Set 5 | mikhaylovka\n",
      "Processing Record 18 of Set 5 | ancud\n",
      "Processing Record 19 of Set 5 | mateare\n",
      "Processing Record 20 of Set 5 | alta floresta\n",
      "Processing Record 21 of Set 5 | sakakah\n",
      "Processing Record 22 of Set 5 | vangaindrano\n",
      "Processing Record 23 of Set 5 | praxedis guerrero\n",
      "Processing Record 24 of Set 5 | yamada\n",
      "Processing Record 25 of Set 5 | longyearbyen\n",
      "Processing Record 26 of Set 5 | iquitos\n",
      "Processing Record 27 of Set 5 | namibe\n",
      "City not found. Skipping...\n",
      "Processing Record 28 of Set 5 | san patricio\n",
      "Processing Record 29 of Set 5 | nikolayevka\n",
      "Processing Record 30 of Set 5 | beni\n",
      "Processing Record 31 of Set 5 | fort abbas\n",
      "Processing Record 32 of Set 5 | narsaq\n",
      "Processing Record 33 of Set 5 | opuwo\n",
      "Processing Record 34 of Set 5 | bara\n",
      "Processing Record 35 of Set 5 | damavand\n",
      "Processing Record 36 of Set 5 | dakar\n",
      "Processing Record 37 of Set 5 | severodvinsk\n",
      "Processing Record 38 of Set 5 | tongliao\n",
      "City not found. Skipping...\n",
      "Processing Record 39 of Set 5 | camocim\n",
      "Processing Record 40 of Set 5 | almaznyy\n",
      "Processing Record 41 of Set 5 | flin flon\n",
      "Processing Record 42 of Set 5 | nouadhibou\n",
      "Processing Record 43 of Set 5 | el alto\n",
      "Processing Record 44 of Set 5 | bogorodskoye\n",
      "Processing Record 45 of Set 5 | tautira\n",
      "Processing Record 46 of Set 5 | cidreira\n",
      "Processing Record 47 of Set 5 | black river\n",
      "City not found. Skipping...\n",
      "Processing Record 48 of Set 5 | perote\n",
      "Processing Record 49 of Set 5 | ponta delgada\n",
      "Processing Record 0 of Set 6 | casper\n",
      "Processing Record 1 of Set 6 | tiksi\n",
      "City not found. Skipping...\n",
      "Processing Record 2 of Set 6 | beringovskiy\n",
      "Processing Record 3 of Set 6 | vila praia de ancora\n",
      "Processing Record 4 of Set 6 | romans-sur-isere\n",
      "Processing Record 5 of Set 6 | tahta\n",
      "Processing Record 6 of Set 6 | nome\n",
      "City not found. Skipping...\n",
      "Processing Record 7 of Set 6 | san policarpo\n",
      "City not found. Skipping...\n",
      "Processing Record 8 of Set 6 | derzhavinsk\n",
      "Processing Record 9 of Set 6 | ostuacan\n",
      "Processing Record 10 of Set 6 | luena\n",
      "City not found. Skipping...\n",
      "Processing Record 11 of Set 6 | campeche\n",
      "Processing Record 12 of Set 6 | richards bay\n",
      "Processing Record 13 of Set 6 | biak\n",
      "Processing Record 14 of Set 6 | alofi\n",
      "Processing Record 15 of Set 6 | mareeba\n",
      "Processing Record 16 of Set 6 | pingliang\n",
      "Processing Record 17 of Set 6 | ostrovnoy\n",
      "Processing Record 18 of Set 6 | san cristobal\n",
      "City not found. Skipping...\n",
      "Processing Record 19 of Set 6 | liverpool\n",
      "Processing Record 20 of Set 6 | kirksville\n",
      "Processing Record 21 of Set 6 | lasa\n",
      "Processing Record 22 of Set 6 | belle fourche\n",
      "Processing Record 23 of Set 6 | darnah\n",
      "Processing Record 24 of Set 6 | barra do garcas\n",
      "Processing Record 25 of Set 6 | nichinan\n",
      "City not found. Skipping...\n",
      "Processing Record 26 of Set 6 | verkh-usugli\n",
      "Processing Record 27 of Set 6 | durango\n",
      "Processing Record 28 of Set 6 | meadow lake\n",
      "Processing Record 29 of Set 6 | mount isa\n",
      "City not found. Skipping...\n",
      "Processing Record 30 of Set 6 | treinta y tres\n",
      "Processing Record 31 of Set 6 | dudinka\n",
      "Processing Record 32 of Set 6 | berlevag\n",
      "Processing Record 33 of Set 6 | torbay\n",
      "Processing Record 34 of Set 6 | lahaina\n",
      "Processing Record 35 of Set 6 | hasaki\n",
      "Processing Record 36 of Set 6 | shingu\n",
      "Processing Record 37 of Set 6 | sumenep\n",
      "Processing Record 38 of Set 6 | atambua\n",
      "Processing Record 39 of Set 6 | san jose de rio tinto\n",
      "Processing Record 40 of Set 6 | caohai\n",
      "Processing Record 41 of Set 6 | khawhai\n",
      "Processing Record 42 of Set 6 | sistranda\n",
      "Processing Record 43 of Set 6 | oneida\n",
      "Processing Record 44 of Set 6 | varzea da palma\n",
      "Processing Record 45 of Set 6 | sorland\n",
      "Processing Record 46 of Set 6 | pandhurna\n",
      "Processing Record 47 of Set 6 | skuodas\n",
      "Processing Record 48 of Set 6 | nizhniy kuranakh\n",
      "Processing Record 49 of Set 6 | haimen\n",
      "Processing Record 0 of Set 7 | kushiro\n",
      "Processing Record 1 of Set 7 | san rafael\n",
      "Processing Record 2 of Set 7 | santa rosa\n",
      "Processing Record 3 of Set 7 | fortuna\n",
      "Processing Record 4 of Set 7 | jinchang\n",
      "Processing Record 5 of Set 7 | senneterre\n",
      "Processing Record 6 of Set 7 | peachland\n",
      "Processing Record 7 of Set 7 | saint simons\n",
      "Processing Record 8 of Set 7 | mahebourg\n",
      "Processing Record 9 of Set 7 | makat\n",
      "Processing Record 10 of Set 7 | kedrovyy\n",
      "Processing Record 11 of Set 7 | tilichiki\n",
      "Processing Record 12 of Set 7 | nykoping\n",
      "Processing Record 13 of Set 7 | fort nelson\n",
      "Processing Record 14 of Set 7 | mumbwa\n",
      "Processing Record 15 of Set 7 | hualmay\n",
      "Processing Record 16 of Set 7 | nicoya\n",
      "Processing Record 17 of Set 7 | arlit\n",
      "Processing Record 18 of Set 7 | zinder\n",
      "Processing Record 19 of Set 7 | trincomalee\n",
      "City not found. Skipping...\n",
      "Processing Record 20 of Set 7 | la ronge\n",
      "Processing Record 21 of Set 7 | murray bridge\n",
      "Processing Record 22 of Set 7 | fairbanks\n",
      "Processing Record 23 of Set 7 | christchurch\n",
      "Processing Record 24 of Set 7 | reading\n",
      "City not found. Skipping...\n",
      "Processing Record 25 of Set 7 | strezhevoy\n",
      "Processing Record 26 of Set 7 | hede\n",
      "Processing Record 27 of Set 7 | foix\n",
      "Processing Record 28 of Set 7 | houma\n",
      "Processing Record 29 of Set 7 | cabra\n",
      "Processing Record 30 of Set 7 | aleksandrovskiy zavod\n",
      "Processing Record 31 of Set 7 | kranuan\n",
      "Processing Record 32 of Set 7 | urengoy\n",
      "City not found. Skipping...\n",
      "Processing Record 33 of Set 7 | alim\n",
      "Processing Record 34 of Set 7 | berbera\n",
      "Processing Record 35 of Set 7 | maldonado\n",
      "Processing Record 36 of Set 7 | yar-sale\n",
      "Processing Record 37 of Set 7 | clyde river\n",
      "Processing Record 38 of Set 7 | baft\n",
      "Processing Record 39 of Set 7 | entre rios\n",
      "Processing Record 40 of Set 7 | linqiong\n",
      "Processing Record 41 of Set 7 | hambantota\n",
      "Processing Record 42 of Set 7 | graaff-reinet\n",
      "Processing Record 43 of Set 7 | along\n",
      "Processing Record 44 of Set 7 | eenhana\n",
      "Processing Record 45 of Set 7 | tommot\n",
      "Processing Record 46 of Set 7 | zhigalovo\n",
      "Processing Record 47 of Set 7 | itapeva\n",
      "City not found. Skipping...\n",
      "Processing Record 48 of Set 7 | guerrero negro\n",
      "Processing Record 49 of Set 7 | bataipora\n",
      "Processing Record 0 of Set 8 | ferkessedougou\n",
      "Processing Record 1 of Set 8 | russell\n",
      "Processing Record 2 of Set 8 | vrangel\n",
      "Processing Record 3 of Set 8 | norman wells\n",
      "Processing Record 4 of Set 8 | lagoa\n",
      "Processing Record 5 of Set 8 | sur\n",
      "Processing Record 6 of Set 8 | san onofre\n",
      "City not found. Skipping...\n",
      "Processing Record 7 of Set 8 | cuxhaven\n",
      "Processing Record 8 of Set 8 | atasu\n",
      "Processing Record 9 of Set 8 | sao felix do xingu\n",
      "Processing Record 10 of Set 8 | jaciara\n",
      "Processing Record 11 of Set 8 | adrar\n",
      "City not found. Skipping...\n",
      "Processing Record 12 of Set 8 | nantucket\n",
      "City not found. Skipping...\n",
      "City not found. Skipping...\n",
      "Processing Record 13 of Set 8 | lavrentiya\n",
      "Processing Record 14 of Set 8 | las vegas\n",
      "Processing Record 15 of Set 8 | kirakira\n",
      "Processing Record 16 of Set 8 | lugovoy\n",
      "Processing Record 17 of Set 8 | maningrida\n",
      "Processing Record 18 of Set 8 | marabba\n",
      "Processing Record 19 of Set 8 | ostersund\n",
      "Processing Record 20 of Set 8 | anadyr\n",
      "Processing Record 21 of Set 8 | belmonte\n",
      "Processing Record 22 of Set 8 | fermo\n",
      "Processing Record 23 of Set 8 | owando\n"
     ]
    },
    {
     "name": "stdout",
     "output_type": "stream",
     "text": [
      "Processing Record 24 of Set 8 | beroroha\n",
      "Processing Record 25 of Set 8 | west wendover\n",
      "Processing Record 26 of Set 8 | omboue\n",
      "Processing Record 27 of Set 8 | lorengau\n",
      "Processing Record 28 of Set 8 | kindu\n",
      "Processing Record 29 of Set 8 | ballarat\n",
      "Processing Record 30 of Set 8 | puerto ayacucho\n",
      "Processing Record 31 of Set 8 | araouane\n",
      "Processing Record 32 of Set 8 | kahului\n",
      "City not found. Skipping...\n",
      "Processing Record 33 of Set 8 | chake chake\n",
      "Processing Record 34 of Set 8 | ponta do sol\n",
      "Processing Record 35 of Set 8 | tura\n",
      "Processing Record 36 of Set 8 | cartagena\n",
      "Processing Record 37 of Set 8 | karasjok\n",
      "Processing Record 38 of Set 8 | isla mujeres\n",
      "City not found. Skipping...\n",
      "Processing Record 39 of Set 8 | velden am worthersee\n",
      "Processing Record 40 of Set 8 | wajima\n",
      "Processing Record 41 of Set 8 | roseburg\n",
      "Processing Record 42 of Set 8 | pafos\n",
      "Processing Record 43 of Set 8 | kloulklubed\n",
      "Processing Record 44 of Set 8 | crotone\n",
      "Processing Record 45 of Set 8 | verkhnevilyuysk\n",
      "Processing Record 46 of Set 8 | egvekinot\n",
      "Processing Record 47 of Set 8 | avesta\n",
      "Processing Record 48 of Set 8 | taoudenni\n",
      "Processing Record 49 of Set 8 | zabid\n",
      "Processing Record 0 of Set 9 | sola\n",
      "Processing Record 1 of Set 9 | shieli\n",
      "Processing Record 2 of Set 9 | gayny\n",
      "Processing Record 3 of Set 9 | soyo\n",
      "Processing Record 4 of Set 9 | makakilo city\n",
      "Processing Record 5 of Set 9 | bandarbeyla\n",
      "Processing Record 6 of Set 9 | rochelle\n",
      "Processing Record 7 of Set 9 | rio grande\n",
      "Processing Record 8 of Set 9 | ararangua\n",
      "Processing Record 9 of Set 9 | husavik\n",
      "Processing Record 10 of Set 9 | zhigansk\n",
      "Processing Record 11 of Set 9 | chihuahua\n",
      "Processing Record 12 of Set 9 | tarko-sale\n",
      "Processing Record 13 of Set 9 | dunedin\n",
      "City not found. Skipping...\n",
      "Processing Record 14 of Set 9 | barcelos\n",
      "Processing Record 15 of Set 9 | tazovskiy\n",
      "Processing Record 16 of Set 9 | matara\n",
      "Processing Record 17 of Set 9 | grindavik\n",
      "Processing Record 18 of Set 9 | assare\n",
      "Processing Record 19 of Set 9 | patrocinio\n",
      "Processing Record 20 of Set 9 | mitsamiouli\n",
      "Processing Record 21 of Set 9 | alexandria\n",
      "Processing Record 22 of Set 9 | college\n",
      "Processing Record 23 of Set 9 | camasca\n",
      "Processing Record 24 of Set 9 | balkanabat\n",
      "Processing Record 25 of Set 9 | apatity\n",
      "Processing Record 26 of Set 9 | myrtle beach\n",
      "Processing Record 27 of Set 9 | tondano\n",
      "Processing Record 28 of Set 9 | chumikan\n",
      "Processing Record 29 of Set 9 | kalianget\n",
      "Processing Record 30 of Set 9 | fallon\n",
      "Processing Record 31 of Set 9 | zhezkazgan\n",
      "Processing Record 32 of Set 9 | sibu\n",
      "Processing Record 33 of Set 9 | marovoay\n",
      "Processing Record 34 of Set 9 | kushima\n",
      "Processing Record 35 of Set 9 | loreto\n",
      "Processing Record 36 of Set 9 | bathsheba\n",
      "Processing Record 37 of Set 9 | khvoynaya\n",
      "Processing Record 38 of Set 9 | boende\n",
      "Processing Record 39 of Set 9 | verkhniye tatyshly\n",
      "Processing Record 40 of Set 9 | henties bay\n",
      "Processing Record 41 of Set 9 | daokou\n",
      "Processing Record 42 of Set 9 | roshchino\n",
      "Processing Record 43 of Set 9 | wexford\n",
      "Processing Record 44 of Set 9 | kargasok\n",
      "Processing Record 45 of Set 9 | inhambane\n",
      "Processing Record 46 of Set 9 | turayf\n",
      "Processing Record 47 of Set 9 | meulaboh\n",
      "Processing Record 48 of Set 9 | mahon\n",
      "Processing Record 49 of Set 9 | media luna\n",
      "Processing Record 0 of Set 10 | tibiri\n",
      "Processing Record 1 of Set 10 | kallithea\n",
      "Processing Record 2 of Set 10 | jian\n",
      "Processing Record 3 of Set 10 | sitka\n",
      "Processing Record 4 of Set 10 | lisala\n",
      "Processing Record 5 of Set 10 | klyuchi\n",
      "Processing Record 6 of Set 10 | okhotsk\n",
      "Processing Record 7 of Set 10 | altay\n",
      "Processing Record 8 of Set 10 | mahanoro\n",
      "Processing Record 9 of Set 10 | marquette\n",
      "Processing Record 10 of Set 10 | vila velha\n",
      "City not found. Skipping...\n",
      "Processing Record 11 of Set 10 | asyut\n",
      "Processing Record 12 of Set 10 | mortka\n",
      "Processing Record 13 of Set 10 | port blair\n",
      "Processing Record 14 of Set 10 | kisangani\n",
      "Processing Record 15 of Set 10 | te anau\n",
      "Processing Record 16 of Set 10 | muli\n",
      "City not found. Skipping...\n",
      "City not found. Skipping...\n",
      "Processing Record 17 of Set 10 | miri\n",
      "Processing Record 18 of Set 10 | dokka\n",
      "Processing Record 19 of Set 10 | ambulu\n",
      "Processing Record 20 of Set 10 | puerto quijarro\n",
      "Processing Record 21 of Set 10 | mehamn\n",
      "City not found. Skipping...\n",
      "Processing Record 22 of Set 10 | vokhma\n",
      "Processing Record 23 of Set 10 | betare oya\n",
      "Processing Record 24 of Set 10 | fuerte olimpo\n",
      "Processing Record 25 of Set 10 | mwanza\n",
      "Processing Record 26 of Set 10 | bluefields\n",
      "Processing Record 27 of Set 10 | suntar\n",
      "Processing Record 28 of Set 10 | bandar-e anzali\n",
      "Processing Record 29 of Set 10 | gurupa\n",
      "Processing Record 30 of Set 10 | saldanha\n",
      "Processing Record 31 of Set 10 | acarau\n",
      "Processing Record 32 of Set 10 | saint-pierre\n",
      "Processing Record 33 of Set 10 | padang\n",
      "Processing Record 34 of Set 10 | itacurubi del rosario\n",
      "Processing Record 35 of Set 10 | mahibadhoo\n",
      "Processing Record 36 of Set 10 | arys\n",
      "Processing Record 37 of Set 10 | shenjiamen\n",
      "Processing Record 38 of Set 10 | namie\n",
      "Processing Record 39 of Set 10 | bilibino\n",
      "Processing Record 40 of Set 10 | port macquarie\n",
      "City not found. Skipping...\n",
      "Processing Record 41 of Set 10 | lata\n",
      "Processing Record 42 of Set 10 | sao joao da barra\n",
      "Processing Record 43 of Set 10 | manati\n",
      "Processing Record 44 of Set 10 | shasta lake\n",
      "Processing Record 45 of Set 10 | pangody\n",
      "Processing Record 46 of Set 10 | batagay-alyta\n",
      "Processing Record 47 of Set 10 | inyonga\n",
      "Processing Record 48 of Set 10 | nabire\n",
      "Processing Record 49 of Set 10 | zonguldak\n",
      "Processing Record 0 of Set 11 | pundaguitan\n",
      "Processing Record 1 of Set 11 | grimshaw\n",
      "Processing Record 2 of Set 11 | mpraeso\n",
      "Processing Record 3 of Set 11 | bay roberts\n",
      "Processing Record 4 of Set 11 | la poza\n",
      "Processing Record 5 of Set 11 | leshukonskoye\n",
      "Processing Record 6 of Set 11 | saint-louis\n",
      "Processing Record 7 of Set 11 | anloga\n",
      "Processing Record 8 of Set 11 | codrington\n",
      "City not found. Skipping...\n",
      "Processing Record 9 of Set 11 | hovd\n",
      "Processing Record 10 of Set 11 | casa nova\n",
      "Processing Record 11 of Set 11 | bairiki\n",
      "Processing Record 12 of Set 11 | kinablangan\n",
      "Processing Record 13 of Set 11 | metsavan\n",
      "Processing Record 14 of Set 11 | laredo\n",
      "Processing Record 15 of Set 11 | wenling\n",
      "Processing Record 16 of Set 11 | hirara\n",
      "Processing Record 17 of Set 11 | sao gabriel da cachoeira\n",
      "Processing Record 18 of Set 11 | yoshikawa\n",
      "Processing Record 19 of Set 11 | hanmer springs\n",
      "Processing Record 20 of Set 11 | buin\n",
      "Processing Record 21 of Set 11 | louga\n",
      "Processing Record 22 of Set 11 | moose factory\n",
      "Processing Record 23 of Set 11 | sao jose da coroa grande\n",
      "Processing Record 24 of Set 11 | chifeng\n",
      "Processing Record 25 of Set 11 | vondrozo\n",
      "Processing Record 26 of Set 11 | mexico\n",
      "Processing Record 27 of Set 11 | marsh harbour\n",
      "Processing Record 28 of Set 11 | liberal\n",
      "Processing Record 29 of Set 11 | alihe\n",
      "Processing Record 30 of Set 11 | palauig\n",
      "Processing Record 31 of Set 11 | suzdal\n",
      "Processing Record 32 of Set 11 | goderich\n",
      "Processing Record 33 of Set 11 | roald\n",
      "Processing Record 34 of Set 11 | puerto leguizamo\n",
      "Processing Record 35 of Set 11 | cabedelo\n",
      "Processing Record 36 of Set 11 | saint-georges\n",
      "Processing Record 37 of Set 11 | siraha\n",
      "Processing Record 38 of Set 11 | loa janan\n",
      "Processing Record 39 of Set 11 | emerald\n",
      "Processing Record 40 of Set 11 | pathalgaon\n",
      "Processing Record 41 of Set 11 | ilhabela\n",
      "Processing Record 42 of Set 11 | isangel\n",
      "Processing Record 43 of Set 11 | acajutla\n",
      "Processing Record 44 of Set 11 | port hardy\n",
      "Processing Record 45 of Set 11 | half moon bay\n",
      "Processing Record 46 of Set 11 | laguna de perlas\n",
      "Processing Record 47 of Set 11 | mandalgovi\n",
      "Processing Record 48 of Set 11 | yerbogachen\n",
      "Processing Record 49 of Set 11 | varberg\n",
      "Processing Record 0 of Set 12 | bandarban\n",
      "Processing Record 1 of Set 12 | isla vista\n",
      "Processing Record 2 of Set 12 | voh\n",
      "Processing Record 3 of Set 12 | batsfjord\n",
      "City not found. Skipping...\n",
      "City not found. Skipping...\n",
      "Processing Record 4 of Set 12 | hofn\n",
      "Processing Record 5 of Set 12 | angul\n",
      "Processing Record 6 of Set 12 | plouzane\n",
      "Processing Record 7 of Set 12 | vostok\n",
      "Processing Record 8 of Set 12 | kysyl-syr\n",
      "Processing Record 9 of Set 12 | luanda\n",
      "Processing Record 10 of Set 12 | berdigestyakh\n",
      "City not found. Skipping...\n",
      "Processing Record 11 of Set 12 | castro\n"
     ]
    },
    {
     "name": "stdout",
     "output_type": "stream",
     "text": [
      "Processing Record 12 of Set 12 | rypefjord\n",
      "Processing Record 13 of Set 12 | eyl\n",
      "Processing Record 14 of Set 12 | moose jaw\n",
      "Processing Record 15 of Set 12 | shache\n",
      "Processing Record 16 of Set 12 | piacabucu\n",
      "Processing Record 17 of Set 12 | freeport\n",
      "Processing Record 18 of Set 12 | rockland\n",
      "Processing Record 19 of Set 12 | sechura\n",
      "Processing Record 20 of Set 12 | xiangxiang\n",
      "Processing Record 21 of Set 12 | aberdeen\n",
      "Processing Record 22 of Set 12 | dinghai\n",
      "City not found. Skipping...\n",
      "Processing Record 23 of Set 12 | emba\n",
      "Processing Record 24 of Set 12 | birao\n",
      "Processing Record 25 of Set 12 | sovetskiy\n",
      "Processing Record 26 of Set 12 | namikupa\n",
      "Processing Record 27 of Set 12 | rabo de peixe\n",
      "Processing Record 28 of Set 12 | lukovetskiy\n",
      "Processing Record 29 of Set 12 | stanceni\n",
      "Processing Record 30 of Set 12 | port-gentil\n",
      "------------------------\n",
      "Data Retrieval Complete\n",
      "------------------------\n"
     ]
    }
   ],
   "source": [
    "# Set count for processing record\n",
    "record_count = 0\n",
    "set_count = 1\n",
    "\n",
    "# Create city list\n",
    "city_data = []\n",
    "\n",
    "# Print Statement\n",
    "print(\"Beginning Data Retrieval\")\n",
    "print(\"------------------------\")\n",
    "\n",
    "for city in cities:\n",
    "    query_url = f\"{url}appid={weather_api_key}&q={city}&units=Imperial\"\n",
    "    # Get weather data\n",
    "    weather_response = requests.get(query_url)\n",
    "    weather_json = weather_response.json()\n",
    "    record_count += 1\n",
    "    if (record_count % 50== 0):\n",
    "        record_count = 0\n",
    "        set_count += 1 \n",
    "    \n",
    "    # Try statement for parameters needed for dataframe\n",
    "    try:\n",
    "        longitude = weather_json[\"coord\"][\"lon\"]\n",
    "        latitude = weather_json[\"coord\"][\"lat\"]\n",
    "        max_temp = weather_json[\"main\"][\"temp_max\"]\n",
    "        humidity = weather_json[\"main\"][\"humidity\"]\n",
    "        cloud = weather_json[\"clouds\"][\"all\"]\n",
    "        windiness = weather_json[\"wind\"][\"speed\"]\n",
    "        country = weather_json[\"sys\"][\"country\"]\n",
    "        date = weather_json[\"dt\"]\n",
    "        city_data.append({\"City\": city,\n",
    "                          \"Lat\": latitude,\n",
    "                            \"Lng\": longitude,\n",
    "                            \"Max Temp\": max_temp,\n",
    "                            \"Humidity\": humidity,\n",
    "                            \"Cloudiness\": cloud,\n",
    "                            \"Wind Speed\": windiness,\n",
    "                            \"Country\": country,\n",
    "                            \"Date\": date,\n",
    "                            })\n",
    "        \n",
    "        print(f\"Processing Record {record_count} of Set {set_count} | {city}\")\n",
    "    except:\n",
    "        print(\"City not found. Skipping...\")\n",
    "        record_count = record_count - 1\n",
    "        pass\n",
    "print(\"------------------------\")\n",
    "print(\"Data Retrieval Complete\")\n",
    "print(\"------------------------\")\n"
   ]
  },
  {
   "cell_type": "markdown",
   "metadata": {},
   "source": [
    "### Convert Raw Data to DataFrame\n",
    "* Export the city data into a .csv.\n",
    "* Display the DataFrame"
   ]
  },
  {
   "cell_type": "code",
   "execution_count": 9,
   "metadata": {},
   "outputs": [
    {
     "data": {
      "text/html": [
       "<div>\n",
       "<style scoped>\n",
       "    .dataframe tbody tr th:only-of-type {\n",
       "        vertical-align: middle;\n",
       "    }\n",
       "\n",
       "    .dataframe tbody tr th {\n",
       "        vertical-align: top;\n",
       "    }\n",
       "\n",
       "    .dataframe thead th {\n",
       "        text-align: right;\n",
       "    }\n",
       "</style>\n",
       "<table border=\"1\" class=\"dataframe\">\n",
       "  <thead>\n",
       "    <tr style=\"text-align: right;\">\n",
       "      <th></th>\n",
       "      <th>City</th>\n",
       "      <th>Lat</th>\n",
       "      <th>Lng</th>\n",
       "      <th>Max Temp</th>\n",
       "      <th>Humidity</th>\n",
       "      <th>Cloudiness</th>\n",
       "      <th>Wind Speed</th>\n",
       "      <th>Country</th>\n",
       "      <th>Date</th>\n",
       "    </tr>\n",
       "  </thead>\n",
       "  <tbody>\n",
       "    <tr>\n",
       "      <th>0</th>\n",
       "      <td>yaan</td>\n",
       "      <td>7.3833</td>\n",
       "      <td>8.5667</td>\n",
       "      <td>69.87</td>\n",
       "      <td>90</td>\n",
       "      <td>99</td>\n",
       "      <td>3.76</td>\n",
       "      <td>NG</td>\n",
       "      <td>1627453711</td>\n",
       "    </tr>\n",
       "    <tr>\n",
       "      <th>1</th>\n",
       "      <td>paamiut</td>\n",
       "      <td>61.9940</td>\n",
       "      <td>-49.6678</td>\n",
       "      <td>44.46</td>\n",
       "      <td>82</td>\n",
       "      <td>83</td>\n",
       "      <td>9.13</td>\n",
       "      <td>GL</td>\n",
       "      <td>1627453712</td>\n",
       "    </tr>\n",
       "    <tr>\n",
       "      <th>2</th>\n",
       "      <td>iqaluit</td>\n",
       "      <td>63.7506</td>\n",
       "      <td>-68.5145</td>\n",
       "      <td>42.53</td>\n",
       "      <td>81</td>\n",
       "      <td>75</td>\n",
       "      <td>5.01</td>\n",
       "      <td>CA</td>\n",
       "      <td>1627453712</td>\n",
       "    </tr>\n",
       "    <tr>\n",
       "      <th>3</th>\n",
       "      <td>mataura</td>\n",
       "      <td>-46.1927</td>\n",
       "      <td>168.8643</td>\n",
       "      <td>48.47</td>\n",
       "      <td>93</td>\n",
       "      <td>89</td>\n",
       "      <td>2.55</td>\n",
       "      <td>NZ</td>\n",
       "      <td>1627453712</td>\n",
       "    </tr>\n",
       "    <tr>\n",
       "      <th>4</th>\n",
       "      <td>vardo</td>\n",
       "      <td>70.3705</td>\n",
       "      <td>31.1107</td>\n",
       "      <td>50.20</td>\n",
       "      <td>93</td>\n",
       "      <td>75</td>\n",
       "      <td>10.36</td>\n",
       "      <td>NO</td>\n",
       "      <td>1627453713</td>\n",
       "    </tr>\n",
       "  </tbody>\n",
       "</table>\n",
       "</div>"
      ],
      "text/plain": [
       "      City      Lat       Lng  Max Temp  Humidity  Cloudiness  Wind Speed  \\\n",
       "0     yaan   7.3833    8.5667     69.87        90          99        3.76   \n",
       "1  paamiut  61.9940  -49.6678     44.46        82          83        9.13   \n",
       "2  iqaluit  63.7506  -68.5145     42.53        81          75        5.01   \n",
       "3  mataura -46.1927  168.8643     48.47        93          89        2.55   \n",
       "4    vardo  70.3705   31.1107     50.20        93          75       10.36   \n",
       "\n",
       "  Country        Date  \n",
       "0      NG  1627453711  \n",
       "1      GL  1627453712  \n",
       "2      CA  1627453712  \n",
       "3      NZ  1627453712  \n",
       "4      NO  1627453713  "
      ]
     },
     "execution_count": 9,
     "metadata": {},
     "output_type": "execute_result"
    }
   ],
   "source": [
    "# Create Dataframe\n",
    "city_df = pd.DataFrame(city_data)\n",
    "\n",
    "# Display head of dataframe\n",
    "city_df.head()"
   ]
  },
  {
   "cell_type": "code",
   "execution_count": 10,
   "metadata": {},
   "outputs": [],
   "source": [
    "# Export city data to csv\n",
    "city_df.to_csv(output_data_file, index = False)"
   ]
  },
  {
   "cell_type": "code",
   "execution_count": 11,
   "metadata": {},
   "outputs": [
    {
     "data": {
      "text/html": [
       "<div>\n",
       "<style scoped>\n",
       "    .dataframe tbody tr th:only-of-type {\n",
       "        vertical-align: middle;\n",
       "    }\n",
       "\n",
       "    .dataframe tbody tr th {\n",
       "        vertical-align: top;\n",
       "    }\n",
       "\n",
       "    .dataframe thead th {\n",
       "        text-align: right;\n",
       "    }\n",
       "</style>\n",
       "<table border=\"1\" class=\"dataframe\">\n",
       "  <thead>\n",
       "    <tr style=\"text-align: right;\">\n",
       "      <th></th>\n",
       "      <th>Lat</th>\n",
       "      <th>Lng</th>\n",
       "      <th>Max Temp</th>\n",
       "      <th>Humidity</th>\n",
       "      <th>Cloudiness</th>\n",
       "      <th>Wind Speed</th>\n",
       "      <th>Date</th>\n",
       "    </tr>\n",
       "  </thead>\n",
       "  <tbody>\n",
       "    <tr>\n",
       "      <th>count</th>\n",
       "      <td>580.000000</td>\n",
       "      <td>580.000000</td>\n",
       "      <td>580.00000</td>\n",
       "      <td>580.000000</td>\n",
       "      <td>580.000000</td>\n",
       "      <td>580.000000</td>\n",
       "      <td>5.800000e+02</td>\n",
       "    </tr>\n",
       "    <tr>\n",
       "      <th>mean</th>\n",
       "      <td>21.130364</td>\n",
       "      <td>18.164980</td>\n",
       "      <td>70.28431</td>\n",
       "      <td>68.998276</td>\n",
       "      <td>56.044828</td>\n",
       "      <td>8.085345</td>\n",
       "      <td>1.627454e+09</td>\n",
       "    </tr>\n",
       "    <tr>\n",
       "      <th>std</th>\n",
       "      <td>32.822574</td>\n",
       "      <td>89.279504</td>\n",
       "      <td>14.24640</td>\n",
       "      <td>21.852900</td>\n",
       "      <td>39.902576</td>\n",
       "      <td>5.739437</td>\n",
       "      <td>9.605413e+01</td>\n",
       "    </tr>\n",
       "    <tr>\n",
       "      <th>min</th>\n",
       "      <td>-54.800000</td>\n",
       "      <td>-179.166700</td>\n",
       "      <td>33.40000</td>\n",
       "      <td>10.000000</td>\n",
       "      <td>0.000000</td>\n",
       "      <td>0.000000</td>\n",
       "      <td>1.627453e+09</td>\n",
       "    </tr>\n",
       "    <tr>\n",
       "      <th>25%</th>\n",
       "      <td>-5.229925</td>\n",
       "      <td>-57.642200</td>\n",
       "      <td>60.74250</td>\n",
       "      <td>53.750000</td>\n",
       "      <td>11.750000</td>\n",
       "      <td>3.737500</td>\n",
       "      <td>1.627454e+09</td>\n",
       "    </tr>\n",
       "    <tr>\n",
       "      <th>50%</th>\n",
       "      <td>24.816650</td>\n",
       "      <td>22.712450</td>\n",
       "      <td>71.88000</td>\n",
       "      <td>75.000000</td>\n",
       "      <td>75.000000</td>\n",
       "      <td>6.910000</td>\n",
       "      <td>1.627454e+09</td>\n",
       "    </tr>\n",
       "    <tr>\n",
       "      <th>75%</th>\n",
       "      <td>48.204275</td>\n",
       "      <td>93.529200</td>\n",
       "      <td>80.71750</td>\n",
       "      <td>87.000000</td>\n",
       "      <td>98.000000</td>\n",
       "      <td>10.365000</td>\n",
       "      <td>1.627454e+09</td>\n",
       "    </tr>\n",
       "    <tr>\n",
       "      <th>max</th>\n",
       "      <td>78.218600</td>\n",
       "      <td>179.316700</td>\n",
       "      <td>101.53000</td>\n",
       "      <td>100.000000</td>\n",
       "      <td>100.000000</td>\n",
       "      <td>34.670000</td>\n",
       "      <td>1.627454e+09</td>\n",
       "    </tr>\n",
       "  </tbody>\n",
       "</table>\n",
       "</div>"
      ],
      "text/plain": [
       "              Lat         Lng   Max Temp    Humidity  Cloudiness  Wind Speed  \\\n",
       "count  580.000000  580.000000  580.00000  580.000000  580.000000  580.000000   \n",
       "mean    21.130364   18.164980   70.28431   68.998276   56.044828    8.085345   \n",
       "std     32.822574   89.279504   14.24640   21.852900   39.902576    5.739437   \n",
       "min    -54.800000 -179.166700   33.40000   10.000000    0.000000    0.000000   \n",
       "25%     -5.229925  -57.642200   60.74250   53.750000   11.750000    3.737500   \n",
       "50%     24.816650   22.712450   71.88000   75.000000   75.000000    6.910000   \n",
       "75%     48.204275   93.529200   80.71750   87.000000   98.000000   10.365000   \n",
       "max     78.218600  179.316700  101.53000  100.000000  100.000000   34.670000   \n",
       "\n",
       "               Date  \n",
       "count  5.800000e+02  \n",
       "mean   1.627454e+09  \n",
       "std    9.605413e+01  \n",
       "min    1.627453e+09  \n",
       "25%    1.627454e+09  \n",
       "50%    1.627454e+09  \n",
       "75%    1.627454e+09  \n",
       "max    1.627454e+09  "
      ]
     },
     "execution_count": 11,
     "metadata": {},
     "output_type": "execute_result"
    }
   ],
   "source": [
    "# Describe dataframe\n",
    "city_df.describe()"
   ]
  },
  {
   "cell_type": "markdown",
   "metadata": {},
   "source": [
    "## Inspect the data and remove the cities where the humidity > 100%.\n",
    "----\n",
    "Skip this step if there are no cities that have humidity > 100%. "
   ]
  },
  {
   "cell_type": "code",
   "execution_count": 12,
   "metadata": {},
   "outputs": [
    {
     "data": {
      "text/html": [
       "<div>\n",
       "<style scoped>\n",
       "    .dataframe tbody tr th:only-of-type {\n",
       "        vertical-align: middle;\n",
       "    }\n",
       "\n",
       "    .dataframe tbody tr th {\n",
       "        vertical-align: top;\n",
       "    }\n",
       "\n",
       "    .dataframe thead th {\n",
       "        text-align: right;\n",
       "    }\n",
       "</style>\n",
       "<table border=\"1\" class=\"dataframe\">\n",
       "  <thead>\n",
       "    <tr style=\"text-align: right;\">\n",
       "      <th></th>\n",
       "      <th>City</th>\n",
       "      <th>Lat</th>\n",
       "      <th>Lng</th>\n",
       "      <th>Max Temp</th>\n",
       "      <th>Humidity</th>\n",
       "      <th>Cloudiness</th>\n",
       "      <th>Wind Speed</th>\n",
       "      <th>Country</th>\n",
       "      <th>Date</th>\n",
       "    </tr>\n",
       "  </thead>\n",
       "  <tbody>\n",
       "  </tbody>\n",
       "</table>\n",
       "</div>"
      ],
      "text/plain": [
       "Empty DataFrame\n",
       "Columns: [City, Lat, Lng, Max Temp, Humidity, Cloudiness, Wind Speed, Country, Date]\n",
       "Index: []"
      ]
     },
     "execution_count": 12,
     "metadata": {},
     "output_type": "execute_result"
    }
   ],
   "source": [
    "# Inspect if there are cities with Humidity > 100%\n",
    "city_df.loc[city_df[\"Humidity\"] > 100, :]\n",
    "# In this random draw of cities, there were no cities with humidity greater than 100."
   ]
  },
  {
   "cell_type": "code",
   "execution_count": 6,
   "metadata": {},
   "outputs": [
    {
     "data": {
      "text/html": [
       "<div>\n",
       "<style scoped>\n",
       "    .dataframe tbody tr th:only-of-type {\n",
       "        vertical-align: middle;\n",
       "    }\n",
       "\n",
       "    .dataframe tbody tr th {\n",
       "        vertical-align: top;\n",
       "    }\n",
       "\n",
       "    .dataframe thead th {\n",
       "        text-align: right;\n",
       "    }\n",
       "</style>\n",
       "<table border=\"1\" class=\"dataframe\">\n",
       "  <thead>\n",
       "    <tr style=\"text-align: right;\">\n",
       "      <th></th>\n",
       "      <th>Lat</th>\n",
       "      <th>Lng</th>\n",
       "      <th>Max Temp</th>\n",
       "      <th>Humidity</th>\n",
       "      <th>Cloudiness</th>\n",
       "      <th>Wind Speed</th>\n",
       "      <th>Date</th>\n",
       "    </tr>\n",
       "  </thead>\n",
       "  <tbody>\n",
       "    <tr>\n",
       "      <th>count</th>\n",
       "      <td>550.000000</td>\n",
       "      <td>550.000000</td>\n",
       "      <td>550.000000</td>\n",
       "      <td>550.000000</td>\n",
       "      <td>550.000000</td>\n",
       "      <td>550.000000</td>\n",
       "      <td>5.500000e+02</td>\n",
       "    </tr>\n",
       "    <tr>\n",
       "      <th>mean</th>\n",
       "      <td>19.973545</td>\n",
       "      <td>17.124400</td>\n",
       "      <td>58.331400</td>\n",
       "      <td>67.890909</td>\n",
       "      <td>52.141818</td>\n",
       "      <td>8.544800</td>\n",
       "      <td>1.585764e+09</td>\n",
       "    </tr>\n",
       "    <tr>\n",
       "      <th>std</th>\n",
       "      <td>33.284840</td>\n",
       "      <td>91.595451</td>\n",
       "      <td>25.795297</td>\n",
       "      <td>20.864881</td>\n",
       "      <td>35.766469</td>\n",
       "      <td>6.078869</td>\n",
       "      <td>5.539674e+01</td>\n",
       "    </tr>\n",
       "    <tr>\n",
       "      <th>min</th>\n",
       "      <td>-54.800000</td>\n",
       "      <td>-179.170000</td>\n",
       "      <td>-11.340000</td>\n",
       "      <td>9.000000</td>\n",
       "      <td>0.000000</td>\n",
       "      <td>0.160000</td>\n",
       "      <td>1.585764e+09</td>\n",
       "    </tr>\n",
       "    <tr>\n",
       "      <th>25%</th>\n",
       "      <td>-8.077500</td>\n",
       "      <td>-64.627500</td>\n",
       "      <td>42.800000</td>\n",
       "      <td>55.000000</td>\n",
       "      <td>20.000000</td>\n",
       "      <td>4.525000</td>\n",
       "      <td>1.585764e+09</td>\n",
       "    </tr>\n",
       "    <tr>\n",
       "      <th>50%</th>\n",
       "      <td>23.630000</td>\n",
       "      <td>19.635000</td>\n",
       "      <td>64.940000</td>\n",
       "      <td>72.000000</td>\n",
       "      <td>57.000000</td>\n",
       "      <td>7.325000</td>\n",
       "      <td>1.585764e+09</td>\n",
       "    </tr>\n",
       "    <tr>\n",
       "      <th>75%</th>\n",
       "      <td>48.672500</td>\n",
       "      <td>97.350000</td>\n",
       "      <td>78.800000</td>\n",
       "      <td>83.000000</td>\n",
       "      <td>86.750000</td>\n",
       "      <td>11.410000</td>\n",
       "      <td>1.585764e+09</td>\n",
       "    </tr>\n",
       "    <tr>\n",
       "      <th>max</th>\n",
       "      <td>78.220000</td>\n",
       "      <td>179.320000</td>\n",
       "      <td>102.200000</td>\n",
       "      <td>100.000000</td>\n",
       "      <td>100.000000</td>\n",
       "      <td>46.080000</td>\n",
       "      <td>1.585764e+09</td>\n",
       "    </tr>\n",
       "  </tbody>\n",
       "</table>\n",
       "</div>"
      ],
      "text/plain": [
       "              Lat         Lng    Max Temp    Humidity  Cloudiness  Wind Speed  \\\n",
       "count  550.000000  550.000000  550.000000  550.000000  550.000000  550.000000   \n",
       "mean    19.973545   17.124400   58.331400   67.890909   52.141818    8.544800   \n",
       "std     33.284840   91.595451   25.795297   20.864881   35.766469    6.078869   \n",
       "min    -54.800000 -179.170000  -11.340000    9.000000    0.000000    0.160000   \n",
       "25%     -8.077500  -64.627500   42.800000   55.000000   20.000000    4.525000   \n",
       "50%     23.630000   19.635000   64.940000   72.000000   57.000000    7.325000   \n",
       "75%     48.672500   97.350000   78.800000   83.000000   86.750000   11.410000   \n",
       "max     78.220000  179.320000  102.200000  100.000000  100.000000   46.080000   \n",
       "\n",
       "               Date  \n",
       "count  5.500000e+02  \n",
       "mean   1.585764e+09  \n",
       "std    5.539674e+01  \n",
       "min    1.585764e+09  \n",
       "25%    1.585764e+09  \n",
       "50%    1.585764e+09  \n",
       "75%    1.585764e+09  \n",
       "max    1.585764e+09  "
      ]
     },
     "execution_count": 6,
     "metadata": {},
     "output_type": "execute_result"
    }
   ],
   "source": [
    "# Skip"
   ]
  },
  {
   "cell_type": "code",
   "execution_count": 17,
   "metadata": {},
   "outputs": [
    {
     "data": {
      "text/plain": [
       "Int64Index([], dtype='int64')"
      ]
     },
     "execution_count": 17,
     "metadata": {},
     "output_type": "execute_result"
    }
   ],
   "source": [
    "#  Get the indices of cities that have humidity over 100%.\n",
    "# skip"
   ]
  },
  {
   "cell_type": "code",
   "execution_count": 19,
   "metadata": {},
   "outputs": [
    {
     "data": {
      "text/html": [
       "<div>\n",
       "<style scoped>\n",
       "    .dataframe tbody tr th:only-of-type {\n",
       "        vertical-align: middle;\n",
       "    }\n",
       "\n",
       "    .dataframe tbody tr th {\n",
       "        vertical-align: top;\n",
       "    }\n",
       "\n",
       "    .dataframe thead th {\n",
       "        text-align: right;\n",
       "    }\n",
       "</style>\n",
       "<table border=\"1\" class=\"dataframe\">\n",
       "  <thead>\n",
       "    <tr style=\"text-align: right;\">\n",
       "      <th></th>\n",
       "      <th>City</th>\n",
       "      <th>Lat</th>\n",
       "      <th>Lng</th>\n",
       "      <th>Max Temp</th>\n",
       "      <th>Humidity</th>\n",
       "      <th>Cloudiness</th>\n",
       "      <th>Wind Speed</th>\n",
       "      <th>Country</th>\n",
       "      <th>Date</th>\n",
       "    </tr>\n",
       "  </thead>\n",
       "  <tbody>\n",
       "    <tr>\n",
       "      <td>0</td>\n",
       "      <td>butaritari</td>\n",
       "      <td>3.07</td>\n",
       "      <td>172.79</td>\n",
       "      <td>83.32</td>\n",
       "      <td>74</td>\n",
       "      <td>84</td>\n",
       "      <td>10.42</td>\n",
       "      <td>KI</td>\n",
       "      <td>1593605283</td>\n",
       "    </tr>\n",
       "    <tr>\n",
       "      <td>1</td>\n",
       "      <td>yerbogachen</td>\n",
       "      <td>61.28</td>\n",
       "      <td>108.01</td>\n",
       "      <td>79.52</td>\n",
       "      <td>58</td>\n",
       "      <td>20</td>\n",
       "      <td>7.70</td>\n",
       "      <td>RU</td>\n",
       "      <td>1593605121</td>\n",
       "    </tr>\n",
       "    <tr>\n",
       "      <td>2</td>\n",
       "      <td>cape town</td>\n",
       "      <td>-33.93</td>\n",
       "      <td>18.42</td>\n",
       "      <td>73.00</td>\n",
       "      <td>77</td>\n",
       "      <td>27</td>\n",
       "      <td>4.70</td>\n",
       "      <td>ZA</td>\n",
       "      <td>1593605039</td>\n",
       "    </tr>\n",
       "    <tr>\n",
       "      <td>3</td>\n",
       "      <td>touba</td>\n",
       "      <td>8.28</td>\n",
       "      <td>-7.68</td>\n",
       "      <td>79.97</td>\n",
       "      <td>75</td>\n",
       "      <td>82</td>\n",
       "      <td>3.58</td>\n",
       "      <td>CI</td>\n",
       "      <td>1593605284</td>\n",
       "    </tr>\n",
       "    <tr>\n",
       "      <td>4</td>\n",
       "      <td>jamestown</td>\n",
       "      <td>42.10</td>\n",
       "      <td>-79.24</td>\n",
       "      <td>64.00</td>\n",
       "      <td>88</td>\n",
       "      <td>1</td>\n",
       "      <td>6.93</td>\n",
       "      <td>US</td>\n",
       "      <td>1593605284</td>\n",
       "    </tr>\n",
       "  </tbody>\n",
       "</table>\n",
       "</div>"
      ],
      "text/plain": [
       "          City    Lat     Lng  Max Temp  Humidity  Cloudiness  Wind Speed  \\\n",
       "0   butaritari   3.07  172.79     83.32        74          84       10.42   \n",
       "1  yerbogachen  61.28  108.01     79.52        58          20        7.70   \n",
       "2    cape town -33.93   18.42     73.00        77          27        4.70   \n",
       "3        touba   8.28   -7.68     79.97        75          82        3.58   \n",
       "4    jamestown  42.10  -79.24     64.00        88           1        6.93   \n",
       "\n",
       "  Country        Date  \n",
       "0      KI  1593605283  \n",
       "1      RU  1593605121  \n",
       "2      ZA  1593605039  \n",
       "3      CI  1593605284  \n",
       "4      US  1593605284  "
      ]
     },
     "execution_count": 19,
     "metadata": {},
     "output_type": "execute_result"
    }
   ],
   "source": [
    "# Make a new DataFrame equal to the city data to drop all humidity outliers by index.\n",
    "# Skip"
   ]
  },
  {
   "cell_type": "markdown",
   "metadata": {},
   "source": [
    "## Plotting the Data\n",
    "* Use proper labeling of the plots using plot titles (including date of analysis) and axes labels.\n",
    "* Save the plotted figures as .pngs."
   ]
  },
  {
   "cell_type": "markdown",
   "metadata": {},
   "source": [
    "## Latitude vs. Temperature Plot"
   ]
  },
  {
   "cell_type": "code",
   "execution_count": 13,
   "metadata": {},
   "outputs": [
    {
     "data": {
      "image/png": "[encoded data removed]",
      "text/plain": [
       "<Figure size 432x288 with 1 Axes>"
      ]
     },
     "metadata": {
      "needs_background": "light"
     },
     "output_type": "display_data"
    }
   ],
   "source": [
    "city_df.plot(x = \"Lat\", y = \"Max Temp\", kind = \"scatter\", title = \"City Latitude vs Max Temperature (04/01/20)\", grid = True)\n",
    "plt.xlabel(\"Latitude\")\n",
    "plt.ylabel(\"Max Temperature (F)\")\n",
    "plt.savefig(\"output_data/Lat_vs_Temp.png\")\n",
    "plt.show()"
   ]
  },
  {
   "cell_type": "markdown",
   "metadata": {},
   "source": [
    "## Latitude vs. Humidity Plot"
   ]
  },
  {
   "cell_type": "code",
   "execution_count": 14,
   "metadata": {},
   "outputs": [
    {
     "data": {
      "image/png": "[encoded data removed]",
      "text/plain": [
       "<Figure size 432x288 with 1 Axes>"
      ]
     },
     "metadata": {
      "needs_background": "light"
     },
     "output_type": "display_data"
    }
   ],
   "source": [
    "city_df.plot(x = \"Lat\", y = \"Humidity\", kind = \"scatter\", title = \"City Latitude vs Humidity (04/01/20)\", grid = True)\n",
    "plt.xlabel(\"Latitude\")\n",
    "plt.ylabel(\"Humidity (%)\")\n",
    "plt.savefig(\"output_data/Lat_vs_Humidity.png\")\n",
    "plt.show()"
   ]
  },
  {
   "cell_type": "markdown",
   "metadata": {},
   "source": [
    "## Latitude vs. Cloudiness Plot"
   ]
  },
  {
   "cell_type": "code",
   "execution_count": 16,
   "metadata": {},
   "outputs": [
    {
     "data": {
      "image/png": "[encoded data removed]",
      "text/plain": [
       "<Figure size 432x288 with 1 Axes>"
      ]
     },
     "metadata": {
      "needs_background": "light"
     },
     "output_type": "display_data"
    }
   ],
   "source": [
    "city_df.plot(x = \"Lat\", y = \"Cloudiness\", kind = \"scatter\", title = \"City Latitude vs Humidity (04/01/20)\", grid = True)\n",
    "plt.xlabel(\"Latitude\")\n",
    "plt.ylabel(\"Cloudiness (%)\")\n",
    "plt.savefig(\"output_data/Lat_vs_Cloudiness.png\")\n",
    "plt.show()"
   ]
  },
  {
   "cell_type": "markdown",
   "metadata": {},
   "source": [
    "## Latitude vs. Wind Speed Plot"
   ]
  },
  {
   "cell_type": "code",
   "execution_count": 17,
   "metadata": {},
   "outputs": [
    {
     "data": {
      "image/png": "[encoded data removed]",
      "text/plain": [
       "<Figure size 432x288 with 1 Axes>"
      ]
     },
     "metadata": {
      "needs_background": "light"
     },
     "output_type": "display_data"
    }
   ],
   "source": [
    "city_df.plot(x = \"Lat\", y = \"Wind Speed\", kind = \"scatter\", title = \"City Latitude vs Humidity (04/01/20)\", grid = True)\n",
    "plt.xlabel(\"Latitude\")\n",
    "plt.ylabel(\"Wind Speed (mph)\")\n",
    "plt.savefig(\"output_data/Lat_vs_WindSpeed.png\")\n",
    "plt.show()"
   ]
  },
  {
   "cell_type": "markdown",
   "metadata": {},
   "source": [
    "## Linear Regression"
   ]
  },
  {
   "cell_type": "code",
   "execution_count": 18,
   "metadata": {},
   "outputs": [],
   "source": [
    "# Create dataframe of Northern and Southern Hemisphere\n",
    "northern_df = city_df.loc[pd.to_numeric(city_df[\"Lat\"]).astype(float)>0,:]\n",
    "southern_df = city_df.loc[pd.to_numeric(city_df[\"Lat\"]).astype(float)<0,:]"
   ]
  },
  {
   "cell_type": "markdown",
   "metadata": {},
   "source": [
    "####  Northern Hemisphere - Max Temp vs. Latitude Linear Regression"
   ]
  },
  {
   "cell_type": "code",
   "execution_count": 20,
   "metadata": {},
   "outputs": [
    {
     "name": "stdout",
     "output_type": "stream",
     "text": [
      "The r-value is: -0.6186050525344651\n"
     ]
    },
    {
     "data": {
      "image/png": "[encoded data removed]",
      "text/plain": [
       "<Figure size 432x288 with 1 Axes>"
      ]
     },
     "metadata": {
      "needs_background": "light"
     },
     "output_type": "display_data"
    }
   ],
   "source": [
    "# Add the linear regression equation and line to plot\n",
    "x_values = northern_df['Lat']\n",
    "y_values = northern_df['Max Temp']\n",
    "(slope, intercept, rvalue, pvalue, stderr) = linregress(x_values, y_values)\n",
    "regress_values = x_values * slope + intercept\n",
    "line_eq = \"y = \" + str(round(slope,2)) + \"x + \" + str(round(intercept,2))\n",
    "plt.scatter(x_values,y_values)\n",
    "plt.plot(x_values,regress_values,\"r-\")\n",
    "plt.annotate(line_eq,(6,35),fontsize=15,color=\"red\")\n",
    "plt.xlabel('Latitude')\n",
    "plt.ylabel('Max Temp')\n",
    "print(f\"The r-value is: {rvalue}\")\n",
    "plt.savefig(\"output_data/Northern_Lat_vs_MaxTemp.png\")\n",
    "plt.show()"
   ]
  },
  {
   "cell_type": "markdown",
   "metadata": {},
   "source": [
    "####  Southern Hemisphere - Max Temp vs. Latitude Linear Regression"
   ]
  },
  {
   "cell_type": "code",
   "execution_count": 21,
   "metadata": {},
   "outputs": [
    {
     "name": "stdout",
     "output_type": "stream",
     "text": [
      "The r-value is: 0.7747814737264505\n"
     ]
    },
    {
     "data": {
      "image/png": "[encoded data removed]",
      "text/plain": [
       "<Figure size 432x288 with 1 Axes>"
      ]
     },
     "metadata": {
      "needs_background": "light"
     },
     "output_type": "display_data"
    }
   ],
   "source": [
    "# Add the linear regression equation and line to plot\n",
    "x_values = southern_df['Lat']\n",
    "y_values = southern_df['Max Temp']\n",
    "(slope, intercept, rvalue, pvalue, stderr) = linregress(x_values, y_values)\n",
    "regress_values = x_values * slope + intercept\n",
    "line_eq = \"y = \" + str(round(slope,2)) + \"x + \" + str(round(intercept,2))\n",
    "plt.scatter(x_values,y_values)\n",
    "plt.plot(x_values,regress_values,\"r-\")\n",
    "plt.annotate(line_eq,(-50,80),fontsize=15,color=\"red\")\n",
    "plt.xlabel('Latitude')\n",
    "plt.ylabel('Max Temp')\n",
    "print(f\"The r-value is: {rvalue}\")\n",
    "plt.savefig(\"output_data/Southern_Lat_vs_MaxTemp.png\")\n",
    "plt.show()"
   ]
  },
  {
   "cell_type": "markdown",
   "metadata": {},
   "source": [
    "####  Northern Hemisphere - Humidity (%) vs. Latitude Linear Regression"
   ]
  },
  {
   "cell_type": "code",
   "execution_count": 24,
   "metadata": {},
   "outputs": [
    {
     "name": "stdout",
     "output_type": "stream",
     "text": [
      "The r-value is: -0.07892448485584524\n"
     ]
    },
    {
     "data": {
      "image/png": "[encoded data removed]",
      "text/plain": [
       "<Figure size 432x288 with 1 Axes>"
      ]
     },
     "metadata": {
      "needs_background": "light"
     },
     "output_type": "display_data"
    }
   ],
   "source": [
    "# Add the linear regression equation and line to plot\n",
    "x_values = northern_df['Lat']\n",
    "y_values = northern_df['Humidity']\n",
    "(slope, intercept, rvalue, pvalue, stderr) = linregress(x_values, y_values)\n",
    "regress_values = x_values * slope + intercept\n",
    "line_eq = \"y = \" + str(round(slope,2)) + \"x + \" + str(round(intercept,2))\n",
    "plt.scatter(x_values,y_values)\n",
    "plt.plot(x_values,regress_values,\"r-\")\n",
    "plt.annotate(line_eq,(0,10),fontsize=15,color=\"red\")\n",
    "plt.xlabel('Latitude')\n",
    "plt.ylabel('Humidity')\n",
    "print(f\"The r-value is: {rvalue}\")\n",
    "plt.savefig(\"output_data/Northern_Lat_vs_Humidity.png\")\n",
    "plt.show()"
   ]
  },
  {
   "cell_type": "markdown",
   "metadata": {},
   "source": [
    "####  Southern Hemisphere - Humidity (%) vs. Latitude Linear Regression"
   ]
  },
  {
   "cell_type": "code",
   "execution_count": 25,
   "metadata": {},
   "outputs": [
    {
     "name": "stdout",
     "output_type": "stream",
     "text": [
      "The r-value is: -0.04160793665015647\n"
     ]
    },
    {
     "data": {
      "image/png": "[encoded data removed]",
      "text/plain": [
       "<Figure size 432x288 with 1 Axes>"
      ]
     },
     "metadata": {
      "needs_background": "light"
     },
     "output_type": "display_data"
    }
   ],
   "source": [
    "# Add the linear regression equation and line to plot\n",
    "x_values = southern_df['Lat']\n",
    "y_values = southern_df['Humidity']\n",
    "(slope, intercept, rvalue, pvalue, stderr) = linregress(x_values, y_values)\n",
    "regress_values = x_values * slope + intercept\n",
    "line_eq = \"y = \" + str(round(slope,2)) + \"x + \" + str(round(intercept,2))\n",
    "plt.scatter(x_values,y_values)\n",
    "plt.plot(x_values,regress_values,\"r-\")\n",
    "plt.annotate(line_eq,(-50,20),fontsize=15,color=\"red\")\n",
    "plt.xlabel('Latitude')\n",
    "plt.ylabel('Humidity')\n",
    "print(f\"The r-value is: {rvalue}\")\n",
    "plt.savefig(\"output_data/Southern_Lat_vs_Humidity.png\")\n",
    "plt.show()"
   ]
  },
  {
   "cell_type": "markdown",
   "metadata": {},
   "source": [
    "####  Northern Hemisphere - Cloudiness (%) vs. Latitude Linear Regression"
   ]
  },
  {
   "cell_type": "code",
   "execution_count": 29,
   "metadata": {},
   "outputs": [
    {
     "name": "stdout",
     "output_type": "stream",
     "text": [
      "The r-value is: -0.06769640372906989\n"
     ]
    },
    {
     "data": {
      "image/png": "[encoded data removed]",
      "text/plain": [
       "<Figure size 432x288 with 1 Axes>"
      ]
     },
     "metadata": {
      "needs_background": "light"
     },
     "output_type": "display_data"
    }
   ],
   "source": [
    "# Add the linear regression equation and line to plot\n",
    "x_values = northern_df['Lat']\n",
    "y_values = northern_df['Cloudiness']\n",
    "(slope, intercept, rvalue, pvalue, stderr) = linregress(x_values, y_values)\n",
    "regress_values = x_values * slope + intercept\n",
    "line_eq = \"y = \" + str(round(slope,2)) + \"x + \" + str(round(intercept,2))\n",
    "plt.scatter(x_values,y_values)\n",
    "plt.plot(x_values,regress_values,\"r-\")\n",
    "plt.annotate(line_eq,(1,30),fontsize=15,color=\"red\")\n",
    "plt.xlabel('Latitude')\n",
    "plt.ylabel('Cloudiness')\n",
    "print(f\"The r-value is: {rvalue}\")\n",
    "plt.savefig(\"output_data/Northern_Lat_vs_Cloudiness.png\")\n",
    "plt.show()"
   ]
  },
  {
   "cell_type": "markdown",
   "metadata": {},
   "source": [
    "####  Southern Hemisphere - Cloudiness (%) vs. Latitude Linear Regression"
   ]
  },
  {
   "cell_type": "code",
   "execution_count": 30,
   "metadata": {},
   "outputs": [
    {
     "name": "stdout",
     "output_type": "stream",
     "text": [
      "The r-value is: -0.050503733886829084\n"
     ]
    },
    {
     "data": {
      "image/png": "[encoded data removed]",
      "text/plain": [
       "<Figure size 432x288 with 1 Axes>"
      ]
     },
     "metadata": {
      "needs_background": "light"
     },
     "output_type": "display_data"
    }
   ],
   "source": [
    "# Add the linear regression equation and line to plot\n",
    "x_values = southern_df['Lat']\n",
    "y_values = southern_df['Cloudiness']\n",
    "(slope, intercept, rvalue, pvalue, stderr) = linregress(x_values, y_values)\n",
    "regress_values = x_values * slope + intercept\n",
    "line_eq = \"y = \" + str(round(slope,2)) + \"x + \" + str(round(intercept,2))\n",
    "plt.scatter(x_values,y_values)\n",
    "plt.plot(x_values,regress_values,\"r-\")\n",
    "plt.annotate(line_eq,(-30,30),fontsize=15,color=\"red\")\n",
    "plt.xlabel('Latitude')\n",
    "plt.ylabel('Cloudiness')\n",
    "print(f\"The r-value is: {rvalue}\")\n",
    "plt.savefig(\"output_data/Southern_Lat_vs_Cloudiness.png\")\n",
    "plt.show()"
   ]
  },
  {
   "cell_type": "markdown",
   "metadata": {},
   "source": [
    "####  Northern Hemisphere - Wind Speed (mph) vs. Latitude Linear Regression"
   ]
  },
  {
   "cell_type": "code",
   "execution_count": 33,
   "metadata": {},
   "outputs": [
    {
     "name": "stdout",
     "output_type": "stream",
     "text": [
      "The r-value is: -0.04205163470902952\n"
     ]
    },
    {
     "data": {
      "image/png": "[encoded data removed]",
      "text/plain": [
       "<Figure size 432x288 with 1 Axes>"
      ]
     },
     "metadata": {
      "needs_background": "light"
     },
     "output_type": "display_data"
    }
   ],
   "source": [
    "# Add the linear regression equation and line to plot\n",
    "x_values = northern_df['Lat']\n",
    "y_values = northern_df['Wind Speed']\n",
    "(slope, intercept, rvalue, pvalue, stderr) = linregress(x_values, y_values)\n",
    "regress_values = x_values * slope + intercept\n",
    "line_eq = \"y = \" + str(round(slope,2)) + \"x + \" + str(round(intercept,2))\n",
    "plt.scatter(x_values,y_values)\n",
    "plt.plot(x_values,regress_values,\"r-\")\n",
    "plt.annotate(line_eq,(45,27),fontsize=15,color=\"red\")\n",
    "plt.xlabel('Latitude')\n",
    "plt.ylabel('Wind Speed')\n",
    "print(f\"The r-value is: {rvalue}\")\n",
    "plt.savefig(\"output_data/Northern_Lat_vs_WindSpeed.png\")\n",
    "plt.show()"
   ]
  },
  {
   "cell_type": "markdown",
   "metadata": {},
   "source": [
    "####  Southern Hemisphere - Wind Speed (mph) vs. Latitude Linear Regression"
   ]
  },
  {
   "cell_type": "code",
   "execution_count": 35,
   "metadata": {},
   "outputs": [
    {
     "name": "stdout",
     "output_type": "stream",
     "text": [
      "The r-value is: -0.23680034571336542\n"
     ]
    },
    {
     "data": {
      "image/png": "[encoded data removed]",
      "text/plain": [
       "<Figure size 432x288 with 1 Axes>"
      ]
     },
     "metadata": {
      "needs_background": "light"
     },
     "output_type": "display_data"
    }
   ],
   "source": [
    "# Add the linear regression equation and line to plot\n",
    "x_values = southern_df['Lat']\n",
    "y_values = southern_df['Wind Speed']\n",
    "(slope, intercept, rvalue, pvalue, stderr) = linregress(x_values, y_values)\n",
    "regress_values = x_values * slope + intercept\n",
    "line_eq = \"y = \" + str(round(slope,2)) + \"x + \" + str(round(intercept,2))\n",
    "plt.scatter(x_values,y_values)\n",
    "plt.plot(x_values,regress_values,\"r-\")\n",
    "plt.annotate(line_eq,(-50,25),fontsize=15,color=\"red\")\n",
    "plt.xlabel('Latitude')\n",
    "plt.ylabel('Wind Speed')\n",
    "print(f\"The r-value is: {rvalue}\")\n",
    "plt.savefig(\"output_data/Southern_Lat_vs_WindSpeed.png\")\n",
    "plt.show()"
   ]
  },
  {
   "cell_type": "code",
   "execution_count": null,
   "metadata": {},
   "outputs": [],
   "source": []
  }
 ],
 "metadata": {
  "anaconda-cloud": {},
  "kernel_info": {
   "name": "python3"
  },
  "kernelspec": {
   "display_name": "Python 3",
   "language": "python",
   "name": "python3"
  },
  "language_info": {
   "codemirror_mode": {
    "name": "ipython",
    "version": 3
   },
   "file_extension": ".py",
   "mimetype": "text/x-python",
   "name": "python",
   "nbconvert_exporter": "python",
   "pygments_lexer": "ipython3",
   "version": "3.7.6"
  },
  "latex_envs": {
   "LaTeX_envs_menu_present": true,
   "autoclose": false,
   "autocomplete": true,
   "bibliofile": "biblio.bib",
   "cite_by": "apalike",
   "current_citInitial": 1,
   "eqLabelWithNumbers": true,
   "eqNumInitial": 1,
   "hotkeys": {
    "equation": "Ctrl-E",
    "itemize": "Ctrl-I"
   },
   "labels_anchors": false,
   "latex_user_defs": false,
   "report_style_numbering": false,
   "user_envs_cfg": false
  },
  "nteract": {
   "version": "0.12.3"
  }
 },
 "nbformat": 4,
 "nbformat_minor": 2
}
